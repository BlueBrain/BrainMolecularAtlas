{
 "cells": [
  {
   "cell_type": "markdown",
   "metadata": {},
   "source": [
    "This file is part of BrainMolecularAtlas.\n",
    "\n",
    "Copyright (c) 2021 Blue Brain Project/EPFL \n",
    "\n",
    "This program is free software: you can redistribute it and/or modify\n",
    "it under the terms of the GNU General Public License as published by\n",
    "the Free Software Foundation, either version 3 of the License, or\n",
    "(at your option) any later version.\n",
    "This program is distributed in the hope that it will be useful,\n",
    "but WITHOUT ANY WARRANTY; without even the implied warranty of\n",
    "MERCHANTABILITY or FITNESS FOR A PARTICULAR PURPOSE.  See the\n",
    "GNU General Public License for more details.\n",
    "\n",
    "You should have received a copy of the GNU General Public License\n",
    "along with this program.  If not, see <https://www.gnu.org/licenses/>."
   ]
  },
  {
   "cell_type": "code",
   "execution_count": null,
   "metadata": {},
   "outputs": [],
   "source": [
    "import pandas as pd\n",
    "import numpy as np\n",
    "from matplotlib import pyplot as plt\n",
    "import seaborn as sns\n",
    "import altair as alt\n",
    "\n",
    "import xlrd\n",
    "import xlsxwriter\n",
    "\n",
    "import timeit\n",
    "import numpy as np\n",
    "from collections import Counter\n",
    "\n",
    "from numpy.random import seed\n",
    "from numpy.random import randint\n",
    "from scipy.stats import ks_2samp\n",
    "from scipy.stats import levene\n",
    "from scipy.stats import fligner\n",
    "from scipy.stats import kruskal\n",
    "import scikit_posthocs as sp\n",
    "\n",
    "import scipy.stats as ss\n",
    "from scipy.stats import mannwhitneyu\n",
    "\n",
    "\n",
    "import pickle as pkl\n",
    "\n",
    "\n",
    "\n",
    "pd.options.display.max_columns = None\n",
    "pd.options.display.max_rows = None\n",
    "\n",
    "\n",
    "%matplotlib inline\n",
    "%config InlineBackend.figure_format = 'retina'"
   ]
  },
  {
   "cell_type": "code",
   "execution_count": null,
   "metadata": {},
   "outputs": [],
   "source": [
    "sns.set_style('whitegrid',{'axes.grid':False})"
   ]
  },
  {
   "cell_type": "code",
   "execution_count": 3,
   "metadata": {},
   "outputs": [
    {
     "name": "stdout",
     "output_type": "stream",
     "text": [
      "2131244\n"
     ]
    }
   ],
   "source": [
    "import pickle as pkl\n",
    "\n",
    "with open('../data/6_df_processed.pkl','rb') as f:\n",
    "    df = pkl.load(f)\n",
    "print(len(df))\n",
    "\n",
    "df[\"log_conc_uM_medNorm\"]  = df[\"log_conc_uM_medNorm\"].astype('float64')\n",
    "\n",
    "\n",
    "\n",
    "custom_dict = {'Itzhak 2017':0,\n",
    "               'Wisniewski 2015':1,\n",
    "              'Bai 2020':2,\n",
    "              'Hasan 2020':3,\n",
    "              'Geiger 2013':4,\n",
    "              'Kjell 2020':5,\n",
    "              'Fecher 2019':6,\n",
    "              'Guergues 2019':7,\n",
    "              'Hamezah 2019':8,\n",
    "              'McKetney 2019':9,\n",
    "              'Hamezah 2018':10,\n",
    "              'Krogager 2018':11,\n",
    "              'Zhu 2018':12,\n",
    "              'Carlyle 2017':13,\n",
    "              'Sharma 2015, isolated':14,\n",
    "              'Sharma 2015, cultured':15,\n",
    "              'Han 2014':16,\n",
    "              'Davis 2019':17,\n",
    "              'Chuang 2018':18,\n",
    "              'Fornasiero 2018':19,\n",
    "              'Hosp 2017, insoluble':20,\n",
    "              'Hosp 2017, soluble':21,\n",
    "              'Hosp 2017, CSF':22,\n",
    "              'Beltran 2016':23,\n",
    "              'Duda 2018':24}   \n",
    "\n",
    "df = df.iloc[df['Study'].map(custom_dict).argsort()]\n",
    "\n",
    "\n",
    "df = df.reset_index(drop=True)\n",
    "\n",
    "df['exp_conc'] = np.exp(df['log_conc_uM_medNorm'])\n"
   ]
  },
  {
   "cell_type": "code",
   "execution_count": 4,
   "metadata": {},
   "outputs": [
    {
     "data": {
      "text/plain": [
       "14700"
      ]
     },
     "execution_count": 4,
     "metadata": {},
     "output_type": "execute_result"
    }
   ],
   "source": [
    "len(df['gene_id_final'].unique())"
   ]
  },
  {
   "cell_type": "code",
   "execution_count": 5,
   "metadata": {},
   "outputs": [
    {
     "data": {
      "text/plain": [
       "Index(['gene_names', 'Uniprot', 'Study', 'Organism', 'location', 'Age_cat',\n",
       "       'Age_days', 'condition', 'sample_id', 'molecular_weight_kDa',\n",
       "       'raw_data', 'raw_data_units', 'gene_name_unified', 'Uniprot_unified',\n",
       "       'gene_id_final', 'log_raw_data', 'uniprot_from_gn', 'Uniprot_final',\n",
       "       'TheorPepNum', 'conc_uM', 'log_conc_uM', 'copyNum', 'totalProtein',\n",
       "       'totalVolume', 'sample_full_id', 'compound_gene_protein_id', 'row_id',\n",
       "       'row_gene_id', 'gene_id_dd', 'log_conc_uM_medNorm', 'exp_conc'],\n",
       "      dtype='object')"
      ]
     },
     "execution_count": 5,
     "metadata": {},
     "output_type": "execute_result"
    }
   ],
   "source": [
    "df.columns"
   ]
  },
  {
   "cell_type": "code",
   "execution_count": 6,
   "metadata": {},
   "outputs": [],
   "source": [
    "df4supp = df4supp.reset_index(drop=True)"
   ]
  },
  {
   "cell_type": "code",
   "execution_count": 6,
   "metadata": {},
   "outputs": [],
   "source": [
    "df4supp = df.copy()\n",
    "df4supp = df4supp.drop(columns=['Age_days','gene_name_unified', 'Uniprot_unified','log_raw_data','uniprot_from_gn','TheorPepNum','copyNum', 'totalProtein',\n",
    "       'totalVolume', 'sample_full_id', 'compound_gene_protein_id', 'row_id',\n",
    "       'row_gene_id', 'exp_conc'])\n",
    "df4supp.columns\n",
    "\n",
    "\n",
    "df4supp = df4supp.reset_index(drop=True)\n"
   ]
  },
  {
   "cell_type": "code",
   "execution_count": 8,
   "metadata": {},
   "outputs": [
    {
     "data": {
      "text/plain": [
       "14700"
      ]
     },
     "execution_count": 8,
     "metadata": {},
     "output_type": "execute_result"
    }
   ],
   "source": [
    "len(df4supp['gene_id_final'].unique())"
   ]
  },
  {
   "cell_type": "code",
   "execution_count": 9,
   "metadata": {},
   "outputs": [],
   "source": [
    "#df4supp.to_csv(\"../data/S1Table.txt\",sep='\\t',index=False)"
   ]
  },
  {
   "cell_type": "code",
   "execution_count": 19,
   "metadata": {},
   "outputs": [
    {
     "data": {
      "text/plain": [
       "array(['cortex'], dtype=object)"
      ]
     },
     "execution_count": 19,
     "metadata": {},
     "output_type": "execute_result"
    }
   ],
   "source": [
    "df.loc[df['condition'].isin(['AD']),'location'].unique()"
   ]
  },
  {
   "cell_type": "code",
   "execution_count": 21,
   "metadata": {},
   "outputs": [
    {
     "data": {
      "text/plain": [
       "array(['Bai 2020'], dtype=object)"
      ]
     },
     "execution_count": 21,
     "metadata": {},
     "output_type": "execute_result"
    }
   ],
   "source": [
    "df.loc[df['condition'].isin(['AD']),'Study'].unique()"
   ]
  },
  {
   "cell_type": "code",
   "execution_count": 23,
   "metadata": {},
   "outputs": [
    {
     "data": {
      "text/plain": [
       "array(['mouse'], dtype=object)"
      ]
     },
     "execution_count": 23,
     "metadata": {},
     "output_type": "execute_result"
    }
   ],
   "source": [
    "df.loc[df['condition'].isin(['AD']),'Organism'].unique()"
   ]
  },
  {
   "cell_type": "code",
   "execution_count": 20,
   "metadata": {},
   "outputs": [
    {
     "data": {
      "text/plain": [
       "array(['cortex', 'striatum', 'hippocampus'], dtype=object)"
      ]
     },
     "execution_count": 20,
     "metadata": {},
     "output_type": "execute_result"
    }
   ],
   "source": [
    "df.loc[df['condition'].isin(['Alzheimer']),'location'].unique()"
   ]
  },
  {
   "cell_type": "code",
   "execution_count": 22,
   "metadata": {},
   "outputs": [
    {
     "data": {
      "text/plain": [
       "array(['Hamezah 2019'], dtype=object)"
      ]
     },
     "execution_count": 22,
     "metadata": {},
     "output_type": "execute_result"
    }
   ],
   "source": [
    "df.loc[df['condition'].isin(['Alzheimer']),'Study'].unique()"
   ]
  },
  {
   "cell_type": "code",
   "execution_count": 24,
   "metadata": {},
   "outputs": [
    {
     "data": {
      "text/plain": [
       "array(['mouse'], dtype=object)"
      ]
     },
     "execution_count": 24,
     "metadata": {},
     "output_type": "execute_result"
    }
   ],
   "source": [
    "df.loc[df['condition'].isin(['Alzheimer']),'Organism'].unique()"
   ]
  },
  {
   "cell_type": "code",
   "execution_count": 26,
   "metadata": {},
   "outputs": [
    {
     "data": {
      "text/plain": [
       "array(['AD', 'control', 'EAE', nan, 'Alzheimer', 'WT', 'young', 'adult'],\n",
       "      dtype=object)"
      ]
     },
     "execution_count": 26,
     "metadata": {},
     "output_type": "execute_result"
    }
   ],
   "source": [
    "df.loc[(df['Organism'].isin(['mouse'])) & (df['location']=='cortex'),'condition'].unique()"
   ]
  },
  {
   "cell_type": "code",
   "execution_count": 27,
   "metadata": {},
   "outputs": [
    {
     "data": {
      "text/plain": [
       "array(['Bai 2020', 'Hasan 2020', 'Geiger 2013', 'Kjell 2020',\n",
       "       'Hamezah 2019', 'Sharma 2015, isolated', 'Fornasiero 2018',\n",
       "       'Hosp 2017, insoluble', 'Hosp 2017, soluble', 'Duda 2018'],\n",
       "      dtype=object)"
      ]
     },
     "execution_count": 27,
     "metadata": {},
     "output_type": "execute_result"
    }
   ],
   "source": [
    "df.loc[(df['Organism'].isin(['mouse'])) & (df['location']=='cortex'),'Study'].unique()"
   ]
  },
  {
   "cell_type": "code",
   "execution_count": 28,
   "metadata": {},
   "outputs": [
    {
     "data": {
      "text/plain": [
       "4725"
      ]
     },
     "execution_count": 28,
     "metadata": {},
     "output_type": "execute_result"
    }
   ],
   "source": [
    "len(df.loc[(df['Organism'].isin(['mouse'])) & (df['location']=='cortex') & \\\n",
    "           (df['Study'].isin(['Geiger 2013'])),'gene_id_final'].unique())"
   ]
  },
  {
   "cell_type": "code",
   "execution_count": 30,
   "metadata": {},
   "outputs": [
    {
     "data": {
      "text/plain": [
       "9291"
      ]
     },
     "execution_count": 30,
     "metadata": {},
     "output_type": "execute_result"
    }
   ],
   "source": [
    "len(df.loc[(df['Organism'].isin(['mouse'])) & (df['location']=='cortex') & \\\n",
    "           (df['Study'].isin(['Bai 2020'])),'gene_id_final'].unique())"
   ]
  },
  {
   "cell_type": "code",
   "execution_count": 31,
   "metadata": {},
   "outputs": [
    {
     "data": {
      "text/plain": [
       "7435"
      ]
     },
     "execution_count": 31,
     "metadata": {},
     "output_type": "execute_result"
    }
   ],
   "source": [
    "len(df.loc[(df['Organism'].isin(['mouse'])) & (df['location']=='cortex') & \\\n",
    "           (df['Study'].isin(['Hasan 2020'])),'gene_id_final'].unique())"
   ]
  },
  {
   "cell_type": "code",
   "execution_count": 32,
   "metadata": {},
   "outputs": [
    {
     "data": {
      "text/plain": [
       "6974"
      ]
     },
     "execution_count": 32,
     "metadata": {},
     "output_type": "execute_result"
    }
   ],
   "source": [
    "len(df.loc[(df['Organism'].isin(['mouse'])) & (df['location']=='cortex') & \\\n",
    "           (df['Study'].isin(['Kjell 2020'])),'gene_id_final'].unique())"
   ]
  },
  {
   "cell_type": "code",
   "execution_count": 33,
   "metadata": {},
   "outputs": [
    {
     "data": {
      "text/plain": [
       "2752"
      ]
     },
     "execution_count": 33,
     "metadata": {},
     "output_type": "execute_result"
    }
   ],
   "source": [
    "len(df.loc[(df['Organism'].isin(['mouse'])) & (df['location']=='cortex') & \\\n",
    "           (df['Study'].isin(['Hamezah 2019'])),'gene_id_final'].unique())"
   ]
  },
  {
   "cell_type": "code",
   "execution_count": 34,
   "metadata": {},
   "outputs": [
    {
     "data": {
      "text/plain": [
       "8100"
      ]
     },
     "execution_count": 34,
     "metadata": {},
     "output_type": "execute_result"
    }
   ],
   "source": [
    "len(df.loc[(df['Organism'].isin(['mouse'])) & (df['location']=='cortex') & \\\n",
    "           (df['Study'].isin(['Sharma 2015, isolated'])),'gene_id_final'].unique())"
   ]
  },
  {
   "cell_type": "code",
   "execution_count": 35,
   "metadata": {},
   "outputs": [
    {
     "data": {
      "text/plain": [
       "1648"
      ]
     },
     "execution_count": 35,
     "metadata": {},
     "output_type": "execute_result"
    }
   ],
   "source": [
    "len(df.loc[(df['Organism'].isin(['mouse'])) & (df['location']=='cortex') & \\\n",
    "           (df['Study'].isin(['Fornasiero 2018'])),'gene_id_final'].unique())"
   ]
  },
  {
   "cell_type": "code",
   "execution_count": 5,
   "metadata": {},
   "outputs": [],
   "source": [
    "#df.to_csv(\"../data/df4r.txt\",sep='\\t',index=False)"
   ]
  },
  {
   "cell_type": "code",
   "execution_count": 6,
   "metadata": {},
   "outputs": [],
   "source": [
    "df2 = df.loc[(df['condition'].isin(['young', 'adult',  'control',  'WT','SORT'])) | (df['condition'].isna())]\n",
    "\n",
    "df2 = df2.reset_index(drop=True)"
   ]
  },
  {
   "cell_type": "code",
   "execution_count": 7,
   "metadata": {},
   "outputs": [],
   "source": [
    "#df2.to_csv(\"../data/df4r_healthy.txt\",sep='\\t')"
   ]
  },
  {
   "cell_type": "code",
   "execution_count": 35,
   "metadata": {},
   "outputs": [
    {
     "data": {
      "text/plain": [
       "array(['Itzhak 2017', 'Wisniewski 2015', 'Bai 2020', 'Hasan 2020',\n",
       "       'Geiger 2013', 'Kjell 2020', 'Fecher 2019', 'Guergues 2019',\n",
       "       'Hamezah 2019', 'Hamezah 2018', 'Krogager 2018', 'Zhu 2018',\n",
       "       'Sharma 2015, isolated', 'Sharma 2015, cultured', 'Han 2014',\n",
       "       'Chuang 2018', 'Fornasiero 2018', 'Hosp 2017, insoluble',\n",
       "       'Hosp 2017, soluble', 'Hosp 2017, CSF', 'Duda 2018'], dtype=object)"
      ]
     },
     "execution_count": 35,
     "metadata": {},
     "output_type": "execute_result"
    }
   ],
   "source": [
    "df3['Study'].unique()"
   ]
  },
  {
   "cell_type": "code",
   "execution_count": 8,
   "metadata": {},
   "outputs": [
    {
     "data": {
      "text/plain": [
       "array(['embr', 'adult', 'middle-aged', 'mature adult', 'old', 'young',\n",
       "       'child', 'adolescence', 'post-mortem'], dtype=object)"
      ]
     },
     "execution_count": 8,
     "metadata": {},
     "output_type": "execute_result"
    }
   ],
   "source": [
    "df2['Age_cat'].unique()"
   ]
  },
  {
   "cell_type": "code",
   "execution_count": 9,
   "metadata": {},
   "outputs": [],
   "source": [
    "df3 = df2.loc[df2['Organism'].isin(['mouse','rat'])]\n",
    "df3 = df3.reset_index(drop=True)\n",
    "\n",
    "df3['Age_cat_agg'] = None\n",
    "\n",
    "df3.loc[df3['Age_cat'].isin(['adolescence','child','young']),'Age_cat_agg'] = \"young\"\n",
    "df3.loc[df3['Age_cat'].isin(['adult','mature adult']),'Age_cat_agg'] = \"adult\"\n",
    "df3.loc[df3['Age_cat'].isin(['middle-aged','old']),'Age_cat_agg'] = \"old\"\n"
   ]
  },
  {
   "cell_type": "code",
   "execution_count": 10,
   "metadata": {},
   "outputs": [],
   "source": [
    "#df3.to_csv(\"../data/df4r_noH_healthy.txt\",sep='\\t',index=False)"
   ]
  },
  {
   "cell_type": "code",
   "execution_count": 11,
   "metadata": {},
   "outputs": [],
   "source": [
    "df3br = df3.loc[(df3['Study']!='Duda 2018') & (df3['location'].isin(['brain','cortex', 'spinal cord', 'striatum', 'cerebellum', 'brainstem','hippocampus', 'midbrain', 'olfactory bulb', 'medulla',\n",
    " 'corpus callosum', 'optic nerve', 'thalamus','csf']))].copy()\n"
   ]
  },
  {
   "cell_type": "code",
   "execution_count": 12,
   "metadata": {},
   "outputs": [],
   "source": [
    "#df3br.to_csv(\"../data/df4r_br.txt\",sep='\\t',index=False)"
   ]
  },
  {
   "cell_type": "code",
   "execution_count": 13,
   "metadata": {},
   "outputs": [],
   "source": [
    "df3cells = df3.loc[(df3['Study']!='Duda 2018') & (df3['location'].isin([ 'microglia', 'neurons','astrocytes','oligodendrocytes']))].copy()"
   ]
  },
  {
   "cell_type": "code",
   "execution_count": 14,
   "metadata": {},
   "outputs": [],
   "source": [
    "#df3cells.to_csv(\"../data/df4r_cells.txt\",sep='\\t',index=False)"
   ]
  },
  {
   "cell_type": "code",
   "execution_count": 6,
   "metadata": {},
   "outputs": [
    {
     "data": {
      "text/plain": [
       "Index(['Study', 'Organism', 'location', 'Age_cat', 'condition',\n",
       "       'gene_id_final', 'log_conc_uM_medNorm'],\n",
       "      dtype='object')"
      ]
     },
     "execution_count": 6,
     "metadata": {},
     "output_type": "execute_result"
    }
   ],
   "source": [
    "df4g = df.copy()\n",
    "\n",
    "df4g = df4g.drop(columns=['gene_names', 'Uniprot', \n",
    "       'Age_days', 'sample_id', 'molecular_weight_kDa',\n",
    "       'raw_data', 'raw_data_units', 'gene_name_unified', 'Uniprot_unified',\n",
    "        'log_raw_data', 'uniprot_from_gn', 'Uniprot_final',\n",
    "       'TheorPepNum', 'conc_uM', 'log_conc_uM', 'copyNum', 'totalProtein',\n",
    "       'totalVolume', 'sample_full_id', 'compound_gene_protein_id', 'row_id',\n",
    "       'row_gene_id', 'gene_id_dd', 'exp_conc'])\n",
    "\n",
    "df4g.columns"
   ]
  },
  {
   "cell_type": "code",
   "execution_count": 7,
   "metadata": {},
   "outputs": [
    {
     "data": {
      "text/plain": [
       "Index(['Study', 'gene_id_final', 'log_conc_uM_medNorm'], dtype='object')"
      ]
     },
     "execution_count": 7,
     "metadata": {},
     "output_type": "execute_result"
    }
   ],
   "source": [
    "df4g = df4g.drop(columns=['Organism', 'location', 'Age_cat', 'condition'])\n",
    "df4g.columns"
   ]
  },
  {
   "cell_type": "code",
   "execution_count": null,
   "metadata": {},
   "outputs": [],
   "source": []
  },
  {
   "cell_type": "code",
   "execution_count": 23,
   "metadata": {},
   "outputs": [],
   "source": [
    "with open('../data/commonGenesStudiesDfg_28july2020.pkl','rb') as f:\n",
    "    commonGenesStudiesDfg = pkl.load(f)"
   ]
  },
  {
   "cell_type": "code",
   "execution_count": 24,
   "metadata": {},
   "outputs": [
    {
     "data": {
      "text/plain": [
       "6333"
      ]
     },
     "execution_count": 24,
     "metadata": {},
     "output_type": "execute_result"
    }
   ],
   "source": [
    "np.max(commonGenesStudiesDfg.loc[commonGenesStudiesDfg['numStudies']==5,'numCommonGenes'])"
   ]
  },
  {
   "cell_type": "code",
   "execution_count": 52,
   "metadata": {},
   "outputs": [
    {
     "data": {
      "text/plain": [
       "5735"
      ]
     },
     "execution_count": 52,
     "metadata": {},
     "output_type": "execute_result"
    }
   ],
   "source": [
    "np.max(commonGenesStudiesDfg.loc[commonGenesStudiesDfg['numStudies']==6,'numCommonGenes'])"
   ]
  },
  {
   "cell_type": "code",
   "execution_count": null,
   "metadata": {},
   "outputs": [],
   "source": []
  },
  {
   "cell_type": "code",
   "execution_count": 10,
   "metadata": {},
   "outputs": [
    {
     "name": "stdout",
     "output_type": "stream",
     "text": [
      "25\n",
      "25\n",
      "2\n",
      "3\n",
      "4\n",
      "5\n",
      "6\n",
      "7\n",
      "8\n",
      "9\n",
      "10\n",
      "11\n",
      "12\n",
      "13\n",
      "14\n",
      "15\n",
      "16\n",
      "17\n",
      "18\n",
      "19\n",
      "20\n",
      "21\n",
      "22\n",
      "23\n",
      "24\n"
     ]
    }
   ],
   "source": [
    "# find combination of Study with max number of common genes #https://stackoverflow.com/questions/49183330/largest-sub-array-with-no-nan\n",
    "\n",
    "\n",
    "dfgs = df4g[['Study','gene_id_final','log_conc_uM_medNorm']].groupby(['Study','gene_id_final']).median()\n",
    "dfgs = df4g.reset_index()\n",
    "\n",
    "\n",
    "d = {name: dfgs[dfgs['Study']==name] for name in dfgs['Study'].unique()}\n",
    "\n",
    "\n",
    "gene_st = dict()\n",
    "\n",
    "for st in df4g['Study'].unique():\n",
    "    gene_st[st] = df4g[df4g['Study']==st]['gene_id_final'].unique()\n",
    "\n",
    "\n",
    "c1 = set(list(gene_st.values())[0])\n",
    "l1 = list()\n",
    "\n",
    "\n",
    "\n",
    "for gs in list(gene_st.values())[1:len(gene_st.values())]:\n",
    "    sc1 = set(c1)\n",
    "    c1 = sc1.intersection(gs)\n",
    "    \n",
    "    l1.append(len(c1))\n",
    "\n",
    "#commonGenesAll = list(set.intersection(*map(set, list(gene_st.values())))) \n",
    "#commonGenesAll\n",
    "\n",
    "\n",
    "import itertools \n",
    "\n",
    "# list of arrays to list of lists\n",
    "\n",
    "ll_gene_st_v = [l.tolist() for l in list(gene_st.values())]\n",
    "\n",
    "\n",
    "#print(combinationsList(ll_gene_st_v[0:3], 2))\n",
    "\n",
    "commonGenesAll = list(set.intersection(*map(set, ll_gene_st_v))) \n",
    "\n",
    "\n",
    "print(len(ll_gene_st_v))\n",
    "\n",
    "\n",
    "ll_gene_st_v_sets = [set(l) for l in ll_gene_st_v]\n",
    "\n",
    "cache = {str(i):s for i,s in enumerate(ll_gene_st_v_sets)}\n",
    "\n",
    "n = len(ll_gene_st_v_sets)\n",
    "\n",
    "print(n)\n",
    "\n",
    "indexes = [i for i in range(n)]\n",
    "\n",
    "for i in range(2, n):\n",
    "    indexes_comb = itertools.combinations(indexes, i)\n",
    "    print(i)\n",
    "    \n",
    "    for comb in indexes_comb:\n",
    "        comb_l = list(comb)\n",
    "        comb_str = [str(c) for c in comb_l]\n",
    "        key = \" \".join(comb_str)\n",
    "        prev_key = \" \".join(comb_str[0:-1])\n",
    "        last_set = ll_gene_st_v_sets[comb_l[-1]]\n",
    "        cache[key] = last_set.intersection(cache[prev_key])\n"
   ]
  },
  {
   "cell_type": "code",
   "execution_count": 11,
   "metadata": {},
   "outputs": [
    {
     "data": {
      "text/plain": [
       "33554430"
      ]
     },
     "execution_count": 11,
     "metadata": {},
     "output_type": "execute_result"
    }
   ],
   "source": [
    "len(list(cache.keys()))"
   ]
  },
  {
   "cell_type": "code",
   "execution_count": 12,
   "metadata": {},
   "outputs": [],
   "source": [
    "cache_keys = list(cache.keys())"
   ]
  },
  {
   "cell_type": "code",
   "execution_count": 14,
   "metadata": {},
   "outputs": [
    {
     "name": "stdout",
     "output_type": "stream",
     "text": [
      "10413\n"
     ]
    }
   ],
   "source": [
    "commonGenesStudiesNumList = {i: [] for i in range(1, len(ll_gene_st_v))}\n",
    "\n",
    "for k, v in cache.items():\n",
    "    commonGenesStudiesNumList[len(k.split(\" \"))].append(len(v))\n",
    "\n",
    "print(np.max(commonGenesStudiesNumList[1]))"
   ]
  },
  {
   "cell_type": "code",
   "execution_count": 15,
   "metadata": {},
   "outputs": [
    {
     "name": "stdout",
     "output_type": "stream",
     "text": [
      "72\n"
     ]
    }
   ],
   "source": [
    "print(np.max(commonGenesStudiesNumList[24]))"
   ]
  },
  {
   "cell_type": "code",
   "execution_count": 16,
   "metadata": {},
   "outputs": [
    {
     "name": "stdout",
     "output_type": "stream",
     "text": [
      "1643\n"
     ]
    }
   ],
   "source": [
    "print(np.max(commonGenesStudiesNumList[15]))"
   ]
  },
  {
   "cell_type": "code",
   "execution_count": 18,
   "metadata": {},
   "outputs": [
    {
     "name": "stdout",
     "output_type": "stream",
     "text": [
      "4648\n"
     ]
    }
   ],
   "source": [
    "print(np.max(commonGenesStudiesNumList[8]))"
   ]
  },
  {
   "cell_type": "code",
   "execution_count": 19,
   "metadata": {},
   "outputs": [
    {
     "name": "stdout",
     "output_type": "stream",
     "text": [
      "0 1 2 3 4 5 6 7 8 9 10 11 12 13 14 15 16 17 18 19 20 21 22 23\n"
     ]
    }
   ],
   "source": [
    "# get list of needed studies\n",
    "\n",
    "for k, v in cache.items():\n",
    "    if (len(k.split(\" \")) == 24) & (len(v) == 72):\n",
    "        print(k)\n",
    "        "
   ]
  },
  {
   "cell_type": "code",
   "execution_count": 17,
   "metadata": {},
   "outputs": [
    {
     "name": "stdout",
     "output_type": "stream",
     "text": [
      "0 2 3 5 9 14 15 21\n"
     ]
    }
   ],
   "source": [
    "# get list of needed studies\n",
    "\n",
    "for k, v in cache.items():\n",
    "    if (len(k.split(\" \")) == 8) & (len(v) == 4648):\n",
    "        print(k)\n",
    "        "
   ]
  },
  {
   "cell_type": "code",
   "execution_count": 18,
   "metadata": {},
   "outputs": [
    {
     "data": {
      "text/plain": [
       "25"
      ]
     },
     "execution_count": 18,
     "metadata": {},
     "output_type": "execute_result"
    }
   ],
   "source": [
    "len(ll_gene_st_v_sets)"
   ]
  },
  {
   "cell_type": "code",
   "execution_count": 20,
   "metadata": {},
   "outputs": [
    {
     "data": {
      "text/plain": [
       "array(['Itzhak 2017', 'Bai 2020', 'Hasan 2020', 'Kjell 2020',\n",
       "       'McKetney 2019', 'Sharma 2015, isolated', 'Sharma 2015, cultured',\n",
       "       'Hosp 2017, soluble'], dtype=object)"
      ]
     },
     "execution_count": 20,
     "metadata": {},
     "output_type": "execute_result"
    }
   ],
   "source": [
    "df4g['Study'].unique()[[0,2,3,5,9,14,15,21]]"
   ]
  },
  {
   "cell_type": "code",
   "execution_count": 22,
   "metadata": {},
   "outputs": [],
   "source": [
    "gene_in_8_studies = cache[\"0 2 3 5 9 14 15 21\"]\n",
    "\n",
    "\n",
    "with open('gene_in_8_studies_30july2020.pkl', 'wb') as fp:\n",
    "    pkl.dump(gene_in_8_studies, fp)"
   ]
  },
  {
   "cell_type": "code",
   "execution_count": 23,
   "metadata": {},
   "outputs": [
    {
     "name": "stdout",
     "output_type": "stream",
     "text": [
      "854474\n"
     ]
    },
    {
     "data": {
      "text/html": [
       "<div>\n",
       "<style scoped>\n",
       "    .dataframe tbody tr th:only-of-type {\n",
       "        vertical-align: middle;\n",
       "    }\n",
       "\n",
       "    .dataframe tbody tr th {\n",
       "        vertical-align: top;\n",
       "    }\n",
       "\n",
       "    .dataframe thead th {\n",
       "        text-align: right;\n",
       "    }\n",
       "</style>\n",
       "<table border=\"1\" class=\"dataframe\">\n",
       "  <thead>\n",
       "    <tr style=\"text-align: right;\">\n",
       "      <th></th>\n",
       "      <th>Study</th>\n",
       "      <th>gene_id_final</th>\n",
       "      <th>log_conc_uM_medNorm</th>\n",
       "    </tr>\n",
       "  </thead>\n",
       "  <tbody>\n",
       "    <tr>\n",
       "      <th>0</th>\n",
       "      <td>Itzhak 2017</td>\n",
       "      <td>LIG3</td>\n",
       "      <td>0.149491</td>\n",
       "    </tr>\n",
       "    <tr>\n",
       "      <th>1</th>\n",
       "      <td>Itzhak 2017</td>\n",
       "      <td>PTEN</td>\n",
       "      <td>-1.627674</td>\n",
       "    </tr>\n",
       "    <tr>\n",
       "      <th>3</th>\n",
       "      <td>Itzhak 2017</td>\n",
       "      <td>SMG1</td>\n",
       "      <td>-3.162047</td>\n",
       "    </tr>\n",
       "    <tr>\n",
       "      <th>4</th>\n",
       "      <td>Itzhak 2017</td>\n",
       "      <td>PRPF38B</td>\n",
       "      <td>-0.174327</td>\n",
       "    </tr>\n",
       "    <tr>\n",
       "      <th>5</th>\n",
       "      <td>Itzhak 2017</td>\n",
       "      <td>ATP6V1G1</td>\n",
       "      <td>1.029038</td>\n",
       "    </tr>\n",
       "  </tbody>\n",
       "</table>\n",
       "</div>"
      ],
      "text/plain": [
       "         Study gene_id_final  log_conc_uM_medNorm\n",
       "0  Itzhak 2017          LIG3             0.149491\n",
       "1  Itzhak 2017          PTEN            -1.627674\n",
       "3  Itzhak 2017          SMG1            -3.162047\n",
       "4  Itzhak 2017       PRPF38B            -0.174327\n",
       "5  Itzhak 2017      ATP6V1G1             1.029038"
      ]
     },
     "execution_count": 23,
     "metadata": {},
     "output_type": "execute_result"
    }
   ],
   "source": [
    "df_8_studies = df4g.loc[(df4g['Study'].isin(df4g['Study'].unique()[[0,2,3,5,9,14,15,21]]) ) & \\\n",
    "                        (df4g['gene_id_final'].isin(gene_in_8_studies))].copy()\n",
    "print(len(df_8_studies))\n",
    "\n",
    "df_8_studies.head()\n",
    "#df_8_studies.to_csv(\"../data/df_8_studies.txt\",sep='\\t',index=False)"
   ]
  },
  {
   "cell_type": "code",
   "execution_count": null,
   "metadata": {},
   "outputs": [],
   "source": [
    "#df_8_studies.to_csv(\"../data/df_8_studies.txt\",sep='\\t',index=False)"
   ]
  },
  {
   "cell_type": "code",
   "execution_count": 20,
   "metadata": {},
   "outputs": [],
   "source": [
    "dfbr = df.loc[(df['Study']!='Duda 2018') & (df['location'].isin(['brain','cortex', 'striatum', 'cerebellum', 'brainstem','hippocampus', 'midbrain', 'olfactory bulb', 'medulla', 'thalamus'])) &\\\n",
    "             ((df['condition'].isin(['young', 'adult',  'control',  'WT','SORT'])) | (df['condition'].isna()))].copy()\n",
    "dfbr = dfbr.loc[:,['gene_id_final','location','log_conc_uM_medNorm']]\n",
    "dfbr = dfbr.reset_index(drop=True)"
   ]
  },
  {
   "cell_type": "code",
   "execution_count": 21,
   "metadata": {},
   "outputs": [
    {
     "name": "stdout",
     "output_type": "stream",
     "text": [
      "10\n",
      "10\n",
      "2\n",
      "3\n",
      "4\n",
      "5\n",
      "6\n",
      "7\n",
      "8\n",
      "9\n"
     ]
    }
   ],
   "source": [
    "# find combination of location with max number of common genes\n",
    "\n",
    "dfgs = dfbr[['location','gene_id_final','log_conc_uM_medNorm']].groupby(['location','gene_id_final']).median()\n",
    "dfgs = dfbr.reset_index()\n",
    "\n",
    "\n",
    "d = {name: dfgs[dfgs['location']==name] for name in dfgs['location'].unique()}\n",
    "\n",
    "\n",
    "gene_st = dict()\n",
    "\n",
    "for st in dfbr['location'].unique():\n",
    "    gene_st[st] = dfbr[dfbr['location']==st]['gene_id_final'].unique()\n",
    "\n",
    "\n",
    "c1 = set(list(gene_st.values())[0])\n",
    "l1 = list()\n",
    "\n",
    "\n",
    "\n",
    "for gs in list(gene_st.values())[1:len(gene_st.values())]:\n",
    "    sc1 = set(c1)\n",
    "    c1 = sc1.intersection(gs)\n",
    "    \n",
    "    l1.append(len(c1))\n",
    "\n",
    "#commonGenesAll = list(set.intersection(*map(set, list(gene_st.values())))) \n",
    "#commonGenesAll\n",
    "\n",
    "\n",
    "import itertools \n",
    "\n",
    "# list of arrays to list of lists\n",
    "\n",
    "ll_gene_st_v = [l.tolist() for l in list(gene_st.values())]\n",
    "\n",
    "\n",
    "#print(combinationsList(ll_gene_st_v[0:3], 2))\n",
    "\n",
    "commonGenesAll = list(set.intersection(*map(set, ll_gene_st_v))) \n",
    "\n",
    "\n",
    "print(len(ll_gene_st_v))\n",
    "\n",
    "\n",
    "ll_gene_st_v_sets = [set(l) for l in ll_gene_st_v]\n",
    "\n",
    "cache = {str(i):s for i,s in enumerate(ll_gene_st_v_sets)}\n",
    "\n",
    "n = len(ll_gene_st_v_sets)\n",
    "\n",
    "print(n)\n",
    "\n",
    "indexes = [i for i in range(n)]\n",
    "\n",
    "for i in range(2, n):\n",
    "    indexes_comb = itertools.combinations(indexes, i)\n",
    "    print(i)\n",
    "    \n",
    "    for comb in indexes_comb:\n",
    "        comb_l = list(comb)\n",
    "        comb_str = [str(c) for c in comb_l]\n",
    "        key = \" \".join(comb_str)\n",
    "        prev_key = \" \".join(comb_str[0:-1])\n",
    "        last_set = ll_gene_st_v_sets[comb_l[-1]]\n",
    "        cache[key] = last_set.intersection(cache[prev_key])\n"
   ]
  },
  {
   "cell_type": "code",
   "execution_count": 22,
   "metadata": {},
   "outputs": [
    {
     "name": "stdout",
     "output_type": "stream",
     "text": [
      "4343\n"
     ]
    }
   ],
   "source": [
    "commonGenesStudiesNumList = {i: [] for i in range(1, len(ll_gene_st_v))}\n",
    "\n",
    "for k, v in cache.items():\n",
    "    commonGenesStudiesNumList[len(k.split(\" \"))].append(len(v))\n",
    "\n",
    "print(np.max(commonGenesStudiesNumList[9]))"
   ]
  },
  {
   "cell_type": "code",
   "execution_count": 24,
   "metadata": {},
   "outputs": [
    {
     "name": "stdout",
     "output_type": "stream",
     "text": [
      "0 1 2 3 4 5 7 8 9\n"
     ]
    }
   ],
   "source": [
    "# get list of needed locations\n",
    "\n",
    "for k, v in cache.items():\n",
    "    if (len(k.split(\" \")) == 9) & (len(v) == 4343):\n",
    "        print(k)\n",
    "        "
   ]
  },
  {
   "cell_type": "code",
   "execution_count": 25,
   "metadata": {},
   "outputs": [],
   "source": [
    "gene_in_br = cache[\"0 1 2 3 4 5 7 8 9\"]\n",
    "\n",
    "\n",
    "with open('gene_in_br_30july2020.pkl', 'wb') as fp:\n",
    "    pkl.dump(gene_in_br, fp)"
   ]
  },
  {
   "cell_type": "code",
   "execution_count": 26,
   "metadata": {},
   "outputs": [
    {
     "name": "stdout",
     "output_type": "stream",
     "text": [
      "676034\n"
     ]
    },
    {
     "data": {
      "text/html": [
       "<div>\n",
       "<style scoped>\n",
       "    .dataframe tbody tr th:only-of-type {\n",
       "        vertical-align: middle;\n",
       "    }\n",
       "\n",
       "    .dataframe tbody tr th {\n",
       "        vertical-align: top;\n",
       "    }\n",
       "\n",
       "    .dataframe thead th {\n",
       "        text-align: right;\n",
       "    }\n",
       "</style>\n",
       "<table border=\"1\" class=\"dataframe\">\n",
       "  <thead>\n",
       "    <tr style=\"text-align: right;\">\n",
       "      <th></th>\n",
       "      <th>gene_id_final</th>\n",
       "      <th>location</th>\n",
       "      <th>log_conc_uM_medNorm</th>\n",
       "    </tr>\n",
       "  </thead>\n",
       "  <tbody>\n",
       "    <tr>\n",
       "      <th>2</th>\n",
       "      <td>GNAS</td>\n",
       "      <td>brain</td>\n",
       "      <td>-0.824751</td>\n",
       "    </tr>\n",
       "    <tr>\n",
       "      <th>3</th>\n",
       "      <td>MVK</td>\n",
       "      <td>brain</td>\n",
       "      <td>-3.765348</td>\n",
       "    </tr>\n",
       "    <tr>\n",
       "      <th>4</th>\n",
       "      <td>METAP1</td>\n",
       "      <td>brain</td>\n",
       "      <td>-2.759008</td>\n",
       "    </tr>\n",
       "    <tr>\n",
       "      <th>5</th>\n",
       "      <td>PDIA3</td>\n",
       "      <td>brain</td>\n",
       "      <td>2.297793</td>\n",
       "    </tr>\n",
       "    <tr>\n",
       "      <th>6</th>\n",
       "      <td>NPEPPS</td>\n",
       "      <td>brain</td>\n",
       "      <td>1.288316</td>\n",
       "    </tr>\n",
       "  </tbody>\n",
       "</table>\n",
       "</div>"
      ],
      "text/plain": [
       "  gene_id_final location  log_conc_uM_medNorm\n",
       "2          GNAS    brain            -0.824751\n",
       "3           MVK    brain            -3.765348\n",
       "4        METAP1    brain            -2.759008\n",
       "5         PDIA3    brain             2.297793\n",
       "6        NPEPPS    brain             1.288316"
      ]
     },
     "execution_count": 26,
     "metadata": {},
     "output_type": "execute_result"
    }
   ],
   "source": [
    "df_br = dfbr.loc[(dfbr['location'].isin(dfbr['location'].unique()[[0, 1, 2, 3, 4, 5, 7, 8, 9]]) ) & \\\n",
    "                        (dfbr['gene_id_final'].isin(gene_in_br))].copy()\n",
    "print(len(df_br))\n",
    "\n",
    "df_br.to_csv(\"../data/df_br_30july2020.txt\",sep='\\t',index=False)\n",
    "\n",
    "df_br.head()\n"
   ]
  },
  {
   "cell_type": "code",
   "execution_count": 27,
   "metadata": {},
   "outputs": [
    {
     "data": {
      "text/plain": [
       "array(['nucleus', 'subcellular not specified', 'large protein complex',\n",
       "       'plasma membrane', 'er', 'golgi', 'actin binding proteins',\n",
       "       'mitochondria', 'endosome', 'peroxisome', 'lysosome', 'brain',\n",
       "       'cortex', 'spinal cord', 'striatum', 'hippocampus', 'cerebellum',\n",
       "       'brainstem', 'midbrain', 'olfactory bulb', 'medulla',\n",
       "       'subependymal zone', 'medial subependymal zone', 'microglia',\n",
       "       'amygdala', 'thalamus', 'neurons', 'corpus callosum',\n",
       "       'optic nerve', 'astrocytes', 'oligodendrocytes', 'axon', 'csf',\n",
       "       'cytoplasm'], dtype=object)"
      ]
     },
     "execution_count": 27,
     "metadata": {},
     "output_type": "execute_result"
    }
   ],
   "source": [
    "df['location'].unique()"
   ]
  },
  {
   "cell_type": "code",
   "execution_count": 28,
   "metadata": {},
   "outputs": [],
   "source": [
    "dfcell = df.loc[(df['Study']!='Duda 2018') & (df['location'].isin(['neurons','astrocytes', 'oligodendrocytes', 'microglia'])) &\\\n",
    "             ((df['condition'].isin(['young', 'adult',  'control',  'WT','SORT'])) | (df['condition'].isna()))].copy()\n",
    "dfcell = dfcell.loc[:,['gene_id_final','location','log_conc_uM_medNorm']]\n",
    "dfcell = dfcell.reset_index(drop=True)"
   ]
  },
  {
   "cell_type": "code",
   "execution_count": 29,
   "metadata": {},
   "outputs": [
    {
     "name": "stdout",
     "output_type": "stream",
     "text": [
      "4\n",
      "4\n",
      "2\n",
      "3\n"
     ]
    }
   ],
   "source": [
    "# find combination of location with max number of common genes\n",
    "\n",
    "dfgs = dfcell[['location','gene_id_final','log_conc_uM_medNorm']].groupby(['location','gene_id_final']).median()\n",
    "dfgs = dfcell.reset_index()\n",
    "\n",
    "\n",
    "d = {name: dfgs[dfgs['location']==name] for name in dfgs['location'].unique()}\n",
    "\n",
    "\n",
    "gene_st = dict()\n",
    "\n",
    "for st in dfcell['location'].unique():\n",
    "    gene_st[st] = dfcell[dfcell['location']==st]['gene_id_final'].unique()\n",
    "\n",
    "\n",
    "c1 = set(list(gene_st.values())[0])\n",
    "l1 = list()\n",
    "\n",
    "\n",
    "\n",
    "for gs in list(gene_st.values())[1:len(gene_st.values())]:\n",
    "    sc1 = set(c1)\n",
    "    c1 = sc1.intersection(gs)\n",
    "    \n",
    "    l1.append(len(c1))\n",
    "\n",
    "import itertools \n",
    "\n",
    "# list of arrays to list of lists\n",
    "\n",
    "ll_gene_st_v = [l.tolist() for l in list(gene_st.values())]\n",
    "\n",
    "commonGenesAll = list(set.intersection(*map(set, ll_gene_st_v))) \n",
    "\n",
    "print(len(ll_gene_st_v))\n",
    "\n",
    "ll_gene_st_v_sets = [set(l) for l in ll_gene_st_v]\n",
    "\n",
    "cache = {str(i):s for i,s in enumerate(ll_gene_st_v_sets)}\n",
    "\n",
    "n = len(ll_gene_st_v_sets)\n",
    "\n",
    "print(n)\n",
    "\n",
    "indexes = [i for i in range(n)]\n",
    "\n",
    "for i in range(2, n):\n",
    "    indexes_comb = itertools.combinations(indexes, i)\n",
    "    print(i)\n",
    "    \n",
    "    for comb in indexes_comb:\n",
    "        comb_l = list(comb)\n",
    "        comb_str = [str(c) for c in comb_l]\n",
    "        key = \" \".join(comb_str)\n",
    "        prev_key = \" \".join(comb_str[0:-1])\n",
    "        last_set = ll_gene_st_v_sets[comb_l[-1]]\n",
    "        cache[key] = last_set.intersection(cache[prev_key])\n"
   ]
  },
  {
   "cell_type": "code",
   "execution_count": 32,
   "metadata": {},
   "outputs": [
    {
     "name": "stdout",
     "output_type": "stream",
     "text": [
      "8313\n"
     ]
    }
   ],
   "source": [
    "commonGenesStudiesNumList = {i: [] for i in range(1, len(ll_gene_st_v))}\n",
    "\n",
    "for k, v in cache.items():\n",
    "    commonGenesStudiesNumList[len(k.split(\" \"))].append(len(v))\n",
    "\n",
    "print(np.max(commonGenesStudiesNumList[3]))"
   ]
  },
  {
   "cell_type": "code",
   "execution_count": 36,
   "metadata": {},
   "outputs": [
    {
     "data": {
      "text/plain": [
       "7940"
      ]
     },
     "execution_count": 36,
     "metadata": {},
     "output_type": "execute_result"
    }
   ],
   "source": [
    "len(commonGenesAll)"
   ]
  },
  {
   "cell_type": "code",
   "execution_count": 24,
   "metadata": {},
   "outputs": [
    {
     "name": "stdout",
     "output_type": "stream",
     "text": [
      "0 1 2 3 4 5 7 8 9\n"
     ]
    }
   ],
   "source": [
    "# get list of needed locations\n",
    "\n",
    "for k, v in cache.items():\n",
    "    if (len(k.split(\" \")) == 9) & (len(v) == 4343):\n",
    "        print(k)\n",
    "        "
   ]
  },
  {
   "cell_type": "code",
   "execution_count": 34,
   "metadata": {},
   "outputs": [],
   "source": [
    "with open('gene_in_dfcell_30july2020.pkl', 'wb') as fp:\n",
    "    pkl.dump(commonGenesAll, fp)"
   ]
  },
  {
   "cell_type": "code",
   "execution_count": 35,
   "metadata": {},
   "outputs": [
    {
     "name": "stdout",
     "output_type": "stream",
     "text": [
      "286985\n"
     ]
    },
    {
     "data": {
      "text/html": [
       "<div>\n",
       "<style scoped>\n",
       "    .dataframe tbody tr th:only-of-type {\n",
       "        vertical-align: middle;\n",
       "    }\n",
       "\n",
       "    .dataframe tbody tr th {\n",
       "        vertical-align: top;\n",
       "    }\n",
       "\n",
       "    .dataframe thead th {\n",
       "        text-align: right;\n",
       "    }\n",
       "</style>\n",
       "<table border=\"1\" class=\"dataframe\">\n",
       "  <thead>\n",
       "    <tr style=\"text-align: right;\">\n",
       "      <th></th>\n",
       "      <th>gene_id_final</th>\n",
       "      <th>location</th>\n",
       "      <th>log_conc_uM_medNorm</th>\n",
       "    </tr>\n",
       "  </thead>\n",
       "  <tbody>\n",
       "    <tr>\n",
       "      <th>0</th>\n",
       "      <td>DDX49</td>\n",
       "      <td>microglia</td>\n",
       "      <td>-2.580261</td>\n",
       "    </tr>\n",
       "    <tr>\n",
       "      <th>1</th>\n",
       "      <td>NAP1L1</td>\n",
       "      <td>microglia</td>\n",
       "      <td>1.046464</td>\n",
       "    </tr>\n",
       "    <tr>\n",
       "      <th>2</th>\n",
       "      <td>MYADM</td>\n",
       "      <td>microglia</td>\n",
       "      <td>-2.851195</td>\n",
       "    </tr>\n",
       "    <tr>\n",
       "      <th>3</th>\n",
       "      <td>MYADM</td>\n",
       "      <td>microglia</td>\n",
       "      <td>-3.047748</td>\n",
       "    </tr>\n",
       "    <tr>\n",
       "      <th>4</th>\n",
       "      <td>ELP3</td>\n",
       "      <td>microglia</td>\n",
       "      <td>-2.843318</td>\n",
       "    </tr>\n",
       "  </tbody>\n",
       "</table>\n",
       "</div>"
      ],
      "text/plain": [
       "  gene_id_final   location  log_conc_uM_medNorm\n",
       "0         DDX49  microglia            -2.580261\n",
       "1        NAP1L1  microglia             1.046464\n",
       "2         MYADM  microglia            -2.851195\n",
       "3         MYADM  microglia            -3.047748\n",
       "4          ELP3  microglia            -2.843318"
      ]
     },
     "execution_count": 35,
     "metadata": {},
     "output_type": "execute_result"
    }
   ],
   "source": [
    "df_cell = dfcell.loc[(dfcell['location'].isin(['neurons','astrocytes', 'oligodendrocytes', 'microglia']) ) & \\\n",
    "                        (dfcell['gene_id_final'].isin(commonGenesAll))].copy()\n",
    "print(len(df_cell))\n",
    "\n",
    "df_cell.to_csv(\"../data/df_cell_30july2020.txt\",sep='\\t',index=False)\n",
    "\n",
    "df_cell.head()\n"
   ]
  },
  {
   "cell_type": "code",
   "execution_count": 25,
   "metadata": {},
   "outputs": [
    {
     "name": "stdout",
     "output_type": "stream",
     "text": [
      "854474\n"
     ]
    },
    {
     "data": {
      "text/html": [
       "<div>\n",
       "<style scoped>\n",
       "    .dataframe tbody tr th:only-of-type {\n",
       "        vertical-align: middle;\n",
       "    }\n",
       "\n",
       "    .dataframe tbody tr th {\n",
       "        vertical-align: top;\n",
       "    }\n",
       "\n",
       "    .dataframe thead th {\n",
       "        text-align: right;\n",
       "    }\n",
       "</style>\n",
       "<table border=\"1\" class=\"dataframe\">\n",
       "  <thead>\n",
       "    <tr style=\"text-align: right;\">\n",
       "      <th></th>\n",
       "      <th>gene_names</th>\n",
       "      <th>Uniprot</th>\n",
       "      <th>Study</th>\n",
       "      <th>Organism</th>\n",
       "      <th>location</th>\n",
       "      <th>Age_cat</th>\n",
       "      <th>Age_days</th>\n",
       "      <th>condition</th>\n",
       "      <th>sample_id</th>\n",
       "      <th>molecular_weight_kDa</th>\n",
       "      <th>raw_data</th>\n",
       "      <th>raw_data_units</th>\n",
       "      <th>gene_name_unified</th>\n",
       "      <th>Uniprot_unified</th>\n",
       "      <th>gene_id_final</th>\n",
       "      <th>log_raw_data</th>\n",
       "      <th>uniprot_from_gn</th>\n",
       "      <th>Uniprot_final</th>\n",
       "      <th>TheorPepNum</th>\n",
       "      <th>conc_uM</th>\n",
       "      <th>log_conc_uM</th>\n",
       "      <th>copyNum</th>\n",
       "      <th>totalProtein</th>\n",
       "      <th>totalVolume</th>\n",
       "      <th>sample_full_id</th>\n",
       "      <th>compound_gene_protein_id</th>\n",
       "      <th>row_id</th>\n",
       "      <th>row_gene_id</th>\n",
       "      <th>gene_id_dd</th>\n",
       "      <th>log_conc_uM_medNorm</th>\n",
       "      <th>exp_conc</th>\n",
       "    </tr>\n",
       "  </thead>\n",
       "  <tbody>\n",
       "    <tr>\n",
       "      <th>0</th>\n",
       "      <td>LIG3</td>\n",
       "      <td>Q80ZH7;P97386;B1AT03;K4DI59;P97386-2</td>\n",
       "      <td>Itzhak 2017</td>\n",
       "      <td>mouse</td>\n",
       "      <td>nucleus</td>\n",
       "      <td>embr</td>\n",
       "      <td>15</td>\n",
       "      <td>NaN</td>\n",
       "      <td>NaN</td>\n",
       "      <td>112.78</td>\n",
       "      <td>347.264454</td>\n",
       "      <td>Median cellular concentration [nM]</td>\n",
       "      <td>LIG3</td>\n",
       "      <td>P97386</td>\n",
       "      <td>LIG3</td>\n",
       "      <td>5.850087</td>\n",
       "      <td>[Q6UXM1, P49916, P97386]</td>\n",
       "      <td>P97386</td>\n",
       "      <td>None</td>\n",
       "      <td>0.347264</td>\n",
       "      <td>-1.057669</td>\n",
       "      <td>None</td>\n",
       "      <td>None</td>\n",
       "      <td>None</td>\n",
       "      <td>Itzhak 2017_mouse_nucleus_15_nan_nan</td>\n",
       "      <td>LIG3#P97386</td>\n",
       "      <td>LIG3#P97386@Itzhak 2017_mouse_nucleus_15_nan_nan</td>\n",
       "      <td>LIG3@Itzhak 2017_mouse_nucleus_15_nan_nan</td>\n",
       "      <td>None</td>\n",
       "      <td>0.149491</td>\n",
       "      <td>1.161243</td>\n",
       "    </tr>\n",
       "    <tr>\n",
       "      <th>1</th>\n",
       "      <td>PTEN</td>\n",
       "      <td>O08586</td>\n",
       "      <td>Itzhak 2017</td>\n",
       "      <td>mouse</td>\n",
       "      <td>subcellular not specified</td>\n",
       "      <td>embr</td>\n",
       "      <td>15</td>\n",
       "      <td>NaN</td>\n",
       "      <td>NaN</td>\n",
       "      <td>47.152</td>\n",
       "      <td>58.728304</td>\n",
       "      <td>Median cellular concentration [nM]</td>\n",
       "      <td>PTEN</td>\n",
       "      <td>O08586</td>\n",
       "      <td>PTEN</td>\n",
       "      <td>4.072922</td>\n",
       "      <td>[O08586, P60484]</td>\n",
       "      <td>O08586</td>\n",
       "      <td>None</td>\n",
       "      <td>0.0587283</td>\n",
       "      <td>-2.834833</td>\n",
       "      <td>None</td>\n",
       "      <td>None</td>\n",
       "      <td>None</td>\n",
       "      <td>Itzhak 2017_mouse_subcellular not specified_15...</td>\n",
       "      <td>PTEN#O08586</td>\n",
       "      <td>PTEN#O08586@Itzhak 2017_mouse_subcellular not ...</td>\n",
       "      <td>PTEN@Itzhak 2017_mouse_subcellular not specifi...</td>\n",
       "      <td>None</td>\n",
       "      <td>-1.627674</td>\n",
       "      <td>0.196386</td>\n",
       "    </tr>\n",
       "    <tr>\n",
       "      <th>3</th>\n",
       "      <td>SMG1</td>\n",
       "      <td>Q8BKX6;J3QQ22</td>\n",
       "      <td>Itzhak 2017</td>\n",
       "      <td>mouse</td>\n",
       "      <td>large protein complex</td>\n",
       "      <td>embr</td>\n",
       "      <td>15</td>\n",
       "      <td>NaN</td>\n",
       "      <td>NaN</td>\n",
       "      <td>409.76</td>\n",
       "      <td>12.661291</td>\n",
       "      <td>Median cellular concentration [nM]</td>\n",
       "      <td>SMG1</td>\n",
       "      <td>Q8BKX6</td>\n",
       "      <td>SMG1</td>\n",
       "      <td>2.538549</td>\n",
       "      <td>[Q96Q15, Q8BKX6]</td>\n",
       "      <td>Q8BKX6</td>\n",
       "      <td>None</td>\n",
       "      <td>0.0126613</td>\n",
       "      <td>-4.369206</td>\n",
       "      <td>None</td>\n",
       "      <td>None</td>\n",
       "      <td>None</td>\n",
       "      <td>Itzhak 2017_mouse_large protein complex_15_nan...</td>\n",
       "      <td>SMG1#Q8BKX6</td>\n",
       "      <td>SMG1#Q8BKX6@Itzhak 2017_mouse_large protein co...</td>\n",
       "      <td>SMG1@Itzhak 2017_mouse_large protein complex_1...</td>\n",
       "      <td>None</td>\n",
       "      <td>-3.162047</td>\n",
       "      <td>0.042339</td>\n",
       "    </tr>\n",
       "    <tr>\n",
       "      <th>4</th>\n",
       "      <td>PRPF38B</td>\n",
       "      <td>Q80SY5</td>\n",
       "      <td>Itzhak 2017</td>\n",
       "      <td>mouse</td>\n",
       "      <td>large protein complex</td>\n",
       "      <td>embr</td>\n",
       "      <td>15</td>\n",
       "      <td>NaN</td>\n",
       "      <td>NaN</td>\n",
       "      <td>63.752</td>\n",
       "      <td>251.204977</td>\n",
       "      <td>Median cellular concentration [nM]</td>\n",
       "      <td>PRPF38B</td>\n",
       "      <td>Q80SY5</td>\n",
       "      <td>PRPF38B</td>\n",
       "      <td>5.526269</td>\n",
       "      <td>[Q6AXY7, Q80SY5, Q5VTL8]</td>\n",
       "      <td>Q80SY5</td>\n",
       "      <td>None</td>\n",
       "      <td>0.251205</td>\n",
       "      <td>-1.381486</td>\n",
       "      <td>None</td>\n",
       "      <td>None</td>\n",
       "      <td>None</td>\n",
       "      <td>Itzhak 2017_mouse_large protein complex_15_nan...</td>\n",
       "      <td>PRPF38B#Q80SY5</td>\n",
       "      <td>PRPF38B#Q80SY5@Itzhak 2017_mouse_large protein...</td>\n",
       "      <td>PRPF38B@Itzhak 2017_mouse_large protein comple...</td>\n",
       "      <td>None</td>\n",
       "      <td>-0.174327</td>\n",
       "      <td>0.840022</td>\n",
       "    </tr>\n",
       "    <tr>\n",
       "      <th>5</th>\n",
       "      <td>ATP6V1G1</td>\n",
       "      <td>Q9CR51;Q5HZY7</td>\n",
       "      <td>Itzhak 2017</td>\n",
       "      <td>mouse</td>\n",
       "      <td>large protein complex</td>\n",
       "      <td>embr</td>\n",
       "      <td>15</td>\n",
       "      <td>NaN</td>\n",
       "      <td>NaN</td>\n",
       "      <td>13.724</td>\n",
       "      <td>836.840934</td>\n",
       "      <td>Median cellular concentration [nM]</td>\n",
       "      <td>ATP6V1G1</td>\n",
       "      <td>Q9CR51</td>\n",
       "      <td>ATP6V1G1</td>\n",
       "      <td>6.729634</td>\n",
       "      <td>[O75348, Q9CR51]</td>\n",
       "      <td>Q9CR51</td>\n",
       "      <td>None</td>\n",
       "      <td>0.836841</td>\n",
       "      <td>-0.178121</td>\n",
       "      <td>None</td>\n",
       "      <td>None</td>\n",
       "      <td>None</td>\n",
       "      <td>Itzhak 2017_mouse_large protein complex_15_nan...</td>\n",
       "      <td>ATP6V1G1#Q9CR51</td>\n",
       "      <td>ATP6V1G1#Q9CR51@Itzhak 2017_mouse_large protei...</td>\n",
       "      <td>ATP6V1G1@Itzhak 2017_mouse_large protein compl...</td>\n",
       "      <td>None</td>\n",
       "      <td>1.029038</td>\n",
       "      <td>2.798373</td>\n",
       "    </tr>\n",
       "  </tbody>\n",
       "</table>\n",
       "</div>"
      ],
      "text/plain": [
       "  gene_names                               Uniprot        Study Organism  \\\n",
       "0       LIG3  Q80ZH7;P97386;B1AT03;K4DI59;P97386-2  Itzhak 2017    mouse   \n",
       "1       PTEN                                O08586  Itzhak 2017    mouse   \n",
       "3       SMG1                         Q8BKX6;J3QQ22  Itzhak 2017    mouse   \n",
       "4    PRPF38B                                Q80SY5  Itzhak 2017    mouse   \n",
       "5   ATP6V1G1                         Q9CR51;Q5HZY7  Itzhak 2017    mouse   \n",
       "\n",
       "                    location Age_cat Age_days condition sample_id  \\\n",
       "0                    nucleus    embr       15       NaN       NaN   \n",
       "1  subcellular not specified    embr       15       NaN       NaN   \n",
       "3      large protein complex    embr       15       NaN       NaN   \n",
       "4      large protein complex    embr       15       NaN       NaN   \n",
       "5      large protein complex    embr       15       NaN       NaN   \n",
       "\n",
       "  molecular_weight_kDa    raw_data                      raw_data_units  \\\n",
       "0               112.78  347.264454  Median cellular concentration [nM]   \n",
       "1               47.152   58.728304  Median cellular concentration [nM]   \n",
       "3               409.76   12.661291  Median cellular concentration [nM]   \n",
       "4               63.752  251.204977  Median cellular concentration [nM]   \n",
       "5               13.724  836.840934  Median cellular concentration [nM]   \n",
       "\n",
       "  gene_name_unified Uniprot_unified gene_id_final  log_raw_data  \\\n",
       "0              LIG3          P97386          LIG3      5.850087   \n",
       "1              PTEN          O08586          PTEN      4.072922   \n",
       "3              SMG1          Q8BKX6          SMG1      2.538549   \n",
       "4           PRPF38B          Q80SY5       PRPF38B      5.526269   \n",
       "5          ATP6V1G1          Q9CR51      ATP6V1G1      6.729634   \n",
       "\n",
       "            uniprot_from_gn Uniprot_final TheorPepNum    conc_uM  log_conc_uM  \\\n",
       "0  [Q6UXM1, P49916, P97386]        P97386        None   0.347264    -1.057669   \n",
       "1          [O08586, P60484]        O08586        None  0.0587283    -2.834833   \n",
       "3          [Q96Q15, Q8BKX6]        Q8BKX6        None  0.0126613    -4.369206   \n",
       "4  [Q6AXY7, Q80SY5, Q5VTL8]        Q80SY5        None   0.251205    -1.381486   \n",
       "5          [O75348, Q9CR51]        Q9CR51        None   0.836841    -0.178121   \n",
       "\n",
       "  copyNum totalProtein totalVolume  \\\n",
       "0    None         None        None   \n",
       "1    None         None        None   \n",
       "3    None         None        None   \n",
       "4    None         None        None   \n",
       "5    None         None        None   \n",
       "\n",
       "                                      sample_full_id compound_gene_protein_id  \\\n",
       "0               Itzhak 2017_mouse_nucleus_15_nan_nan              LIG3#P97386   \n",
       "1  Itzhak 2017_mouse_subcellular not specified_15...              PTEN#O08586   \n",
       "3  Itzhak 2017_mouse_large protein complex_15_nan...              SMG1#Q8BKX6   \n",
       "4  Itzhak 2017_mouse_large protein complex_15_nan...           PRPF38B#Q80SY5   \n",
       "5  Itzhak 2017_mouse_large protein complex_15_nan...          ATP6V1G1#Q9CR51   \n",
       "\n",
       "                                              row_id  \\\n",
       "0   LIG3#P97386@Itzhak 2017_mouse_nucleus_15_nan_nan   \n",
       "1  PTEN#O08586@Itzhak 2017_mouse_subcellular not ...   \n",
       "3  SMG1#Q8BKX6@Itzhak 2017_mouse_large protein co...   \n",
       "4  PRPF38B#Q80SY5@Itzhak 2017_mouse_large protein...   \n",
       "5  ATP6V1G1#Q9CR51@Itzhak 2017_mouse_large protei...   \n",
       "\n",
       "                                         row_gene_id gene_id_dd  \\\n",
       "0          LIG3@Itzhak 2017_mouse_nucleus_15_nan_nan       None   \n",
       "1  PTEN@Itzhak 2017_mouse_subcellular not specifi...       None   \n",
       "3  SMG1@Itzhak 2017_mouse_large protein complex_1...       None   \n",
       "4  PRPF38B@Itzhak 2017_mouse_large protein comple...       None   \n",
       "5  ATP6V1G1@Itzhak 2017_mouse_large protein compl...       None   \n",
       "\n",
       "   log_conc_uM_medNorm  exp_conc  \n",
       "0             0.149491  1.161243  \n",
       "1            -1.627674  0.196386  \n",
       "3            -3.162047  0.042339  \n",
       "4            -0.174327  0.840022  \n",
       "5             1.029038  2.798373  "
      ]
     },
     "execution_count": 25,
     "metadata": {},
     "output_type": "execute_result"
    }
   ],
   "source": [
    "full_df_8_studies = df.loc[(df['Study'].isin(df4g['Study'].unique()[[0,2,3,5,9,14,15,21]]) ) & \\\n",
    "                        (df['gene_id_final'].isin(gene_in_8_studies))].copy()\n",
    "print(len(full_df_8_studies))\n",
    "\n",
    "full_df_8_studies.head()"
   ]
  },
  {
   "cell_type": "code",
   "execution_count": null,
   "metadata": {},
   "outputs": [],
   "source": [
    "full_df_8_studies = full_df_8_studies.drop(columns=['gene_names', 'Uniprot', \n",
    "       'Age_days', 'sample_id', 'molecular_weight_kDa',\n",
    "       'raw_data', 'raw_data_units', 'gene_name_unified', 'Uniprot_unified',\n",
    "        'log_raw_data', 'uniprot_from_gn', 'Uniprot_final',\n",
    "       'TheorPepNum', 'conc_uM', 'log_conc_uM', 'copyNum', 'totalProtein',\n",
    "       'totalVolume', 'sample_full_id', 'compound_gene_protein_id', 'row_id',\n",
    "       'row_gene_id', 'gene_id_dd', 'exp_conc'])\n",
    "\n",
    "full_df_8_studies.columns"
   ]
  },
  {
   "cell_type": "code",
   "execution_count": null,
   "metadata": {},
   "outputs": [],
   "source": [
    "#full_df_8_studies.to_csv(\"../data/full_df_8_studies.txt\",sep='\\t',index=False)"
   ]
  },
  {
   "cell_type": "code",
   "execution_count": 26,
   "metadata": {},
   "outputs": [
    {
     "name": "stdout",
     "output_type": "stream",
     "text": [
      "849508\n"
     ]
    },
    {
     "data": {
      "text/plain": [
       "Index(['Study', 'Organism', 'location', 'Age_cat', 'condition',\n",
       "       'gene_id_final', 'log_conc_uM_medNorm'],\n",
       "      dtype='object')"
      ]
     },
     "execution_count": 26,
     "metadata": {},
     "output_type": "execute_result"
    }
   ],
   "source": [
    "# no Itzhak because it's subcell\n",
    "\n",
    "full_df_8_studies = df.loc[(df['Study'].isin(df4g['Study'].unique()[[2,3,5,9,14,15,21]]) ) & \\\n",
    "                        (df['gene_id_final'].isin(gene_in_8_studies))].copy()\n",
    "print(len(full_df_8_studies))\n",
    "\n",
    "full_df_8_studies = full_df_8_studies.drop(columns=['gene_names', 'Uniprot', \n",
    "       'Age_days', 'sample_id', 'molecular_weight_kDa',\n",
    "       'raw_data', 'raw_data_units', 'gene_name_unified', 'Uniprot_unified',\n",
    "        'log_raw_data', 'uniprot_from_gn', 'Uniprot_final',\n",
    "       'TheorPepNum', 'conc_uM', 'log_conc_uM', 'copyNum', 'totalProtein',\n",
    "       'totalVolume', 'sample_full_id', 'compound_gene_protein_id', 'row_id',\n",
    "       'row_gene_id', 'gene_id_dd', 'exp_conc'])\n",
    "\n",
    "full_df_8_studies.columns"
   ]
  },
  {
   "cell_type": "code",
   "execution_count": 27,
   "metadata": {},
   "outputs": [],
   "source": [
    "full_df_8_studies['sample'] = full_df_8_studies['Study'].astype(str)+full_df_8_studies['location'].astype(str) #+full_df_8_studies['Age_cat'].astype(str)+full_df_8_studies['condition'].astype(str)  \n"
   ]
  },
  {
   "cell_type": "code",
   "execution_count": 64,
   "metadata": {},
   "outputs": [
    {
     "data": {
      "text/html": [
       "<div>\n",
       "<style scoped>\n",
       "    .dataframe tbody tr th:only-of-type {\n",
       "        vertical-align: middle;\n",
       "    }\n",
       "\n",
       "    .dataframe tbody tr th {\n",
       "        vertical-align: top;\n",
       "    }\n",
       "\n",
       "    .dataframe thead th {\n",
       "        text-align: right;\n",
       "    }\n",
       "</style>\n",
       "<table border=\"1\" class=\"dataframe\">\n",
       "  <thead>\n",
       "    <tr style=\"text-align: right;\">\n",
       "      <th></th>\n",
       "      <th>Study</th>\n",
       "      <th>Organism</th>\n",
       "      <th>location</th>\n",
       "      <th>Age_cat</th>\n",
       "      <th>condition</th>\n",
       "      <th>gene_id_final</th>\n",
       "      <th>log_conc_uM_medNorm</th>\n",
       "      <th>sample</th>\n",
       "    </tr>\n",
       "  </thead>\n",
       "  <tbody>\n",
       "    <tr>\n",
       "      <th>28527</th>\n",
       "      <td>Bai 2020</td>\n",
       "      <td>mouse</td>\n",
       "      <td>cortex</td>\n",
       "      <td>mature adult</td>\n",
       "      <td>AD</td>\n",
       "      <td>MCAT</td>\n",
       "      <td>-2.137187</td>\n",
       "      <td>Bai 2020cortex</td>\n",
       "    </tr>\n",
       "    <tr>\n",
       "      <th>28529</th>\n",
       "      <td>Bai 2020</td>\n",
       "      <td>mouse</td>\n",
       "      <td>cortex</td>\n",
       "      <td>mature adult</td>\n",
       "      <td>AD</td>\n",
       "      <td>VDAC3</td>\n",
       "      <td>3.163652</td>\n",
       "      <td>Bai 2020cortex</td>\n",
       "    </tr>\n",
       "    <tr>\n",
       "      <th>28531</th>\n",
       "      <td>Bai 2020</td>\n",
       "      <td>mouse</td>\n",
       "      <td>cortex</td>\n",
       "      <td>adult</td>\n",
       "      <td>AD</td>\n",
       "      <td>DIRAS1</td>\n",
       "      <td>0.750658</td>\n",
       "      <td>Bai 2020cortex</td>\n",
       "    </tr>\n",
       "    <tr>\n",
       "      <th>28533</th>\n",
       "      <td>Bai 2020</td>\n",
       "      <td>mouse</td>\n",
       "      <td>cortex</td>\n",
       "      <td>mature adult</td>\n",
       "      <td>AD</td>\n",
       "      <td>TNFRSF21</td>\n",
       "      <td>-2.562858</td>\n",
       "      <td>Bai 2020cortex</td>\n",
       "    </tr>\n",
       "    <tr>\n",
       "      <th>28535</th>\n",
       "      <td>Bai 2020</td>\n",
       "      <td>mouse</td>\n",
       "      <td>cortex</td>\n",
       "      <td>middle-aged</td>\n",
       "      <td>control</td>\n",
       "      <td>KCTD4</td>\n",
       "      <td>-1.666867</td>\n",
       "      <td>Bai 2020cortex</td>\n",
       "    </tr>\n",
       "  </tbody>\n",
       "</table>\n",
       "</div>"
      ],
      "text/plain": [
       "          Study Organism location       Age_cat condition gene_id_final  \\\n",
       "28527  Bai 2020    mouse   cortex  mature adult        AD          MCAT   \n",
       "28529  Bai 2020    mouse   cortex  mature adult        AD         VDAC3   \n",
       "28531  Bai 2020    mouse   cortex         adult        AD        DIRAS1   \n",
       "28533  Bai 2020    mouse   cortex  mature adult        AD      TNFRSF21   \n",
       "28535  Bai 2020    mouse   cortex   middle-aged   control         KCTD4   \n",
       "\n",
       "       log_conc_uM_medNorm          sample  \n",
       "28527            -2.137187  Bai 2020cortex  \n",
       "28529             3.163652  Bai 2020cortex  \n",
       "28531             0.750658  Bai 2020cortex  \n",
       "28533            -2.562858  Bai 2020cortex  \n",
       "28535            -1.666867  Bai 2020cortex  "
      ]
     },
     "execution_count": 64,
     "metadata": {},
     "output_type": "execute_result"
    }
   ],
   "source": [
    "full_df_8_studies.head()"
   ]
  },
  {
   "cell_type": "code",
   "execution_count": null,
   "metadata": {},
   "outputs": [],
   "source": [
    "len(full_df_8_studies['sample'].unique())"
   ]
  },
  {
   "cell_type": "code",
   "execution_count": 97,
   "metadata": {},
   "outputs": [
    {
     "name": "stdout",
     "output_type": "stream",
     "text": [
      "d  38\n",
      "38\n",
      "38\n",
      "n:  38\n"
     ]
    }
   ],
   "source": [
    "# find combination of sample with max number of common genes\n",
    "\n",
    "dfgs = full_df_8_studies[['sample','gene_id_final','log_conc_uM_medNorm']].groupby(['sample','gene_id_final']).median()\n",
    "dfgs = dfgs.reset_index()\n",
    "\n",
    "\n",
    "d = {name: dfgs[dfgs['sample']==name] for name in dfgs['sample'].unique()}\n",
    "print(\"d \",len(d))\n",
    "\n",
    "gene_st = dict()\n",
    "\n",
    "for st in full_df_8_studies['sample'].unique():\n",
    "    gene_st[st] = full_df_8_studies[full_df_8_studies['sample']==st]['gene_id_final'].unique()\n",
    "\n",
    "\n",
    "c1 = set(list(gene_st.values())[0])\n",
    "l1 = list()\n",
    "\n",
    "\n",
    "\n",
    "for gs in list(gene_st.values())[1:len(gene_st.values())]:\n",
    "    sc1 = set(c1)\n",
    "    c1 = sc1.intersection(gs)\n",
    "    \n",
    "    l1.append(len(c1))\n",
    "\n",
    "#commonGenesAll = list(set.intersection(*map(set, list(gene_st.values())))) \n",
    "#commonGenesAll\n",
    "\n",
    "\n",
    "import itertools \n",
    "\n",
    "# list of arrays to list of lists\n",
    "\n",
    "ll_gene_st_v = [l.tolist() for l in list(gene_st.values())]\n",
    "\n",
    "\n",
    "#print(combinationsList(ll_gene_st_v[0:3], 2))\n",
    "\n",
    "commonGenesAll = list(set.intersection(*map(set, ll_gene_st_v))) \n",
    "\n",
    "\n",
    "print(len(ll_gene_st_v))\n",
    "\n",
    "\n",
    "ll_gene_st_v_sets = [set(l) for l in ll_gene_st_v]\n",
    "\n",
    "cache = {str(i):s for i,s in enumerate(ll_gene_st_v_sets)}\n",
    "\n",
    "print(len(list(cache.keys())))\n",
    "\n",
    "n = len(ll_gene_st_v_sets)\n",
    "print(\"n: \",n)\n",
    "\n",
    "indexes = [i for i in range(n)]\n"
   ]
  },
  {
   "cell_type": "code",
   "execution_count": null,
   "metadata": {},
   "outputs": [
    {
     "name": "stdout",
     "output_type": "stream",
     "text": [
      "2\n",
      "3\n",
      "4\n",
      "5\n",
      "6\n"
     ]
    }
   ],
   "source": [
    "for i in range(2, n):\n",
    "    indexes_comb = itertools.combinations(indexes, i)\n",
    "    print(i)\n",
    "\n",
    "    for comb in indexes_comb:\n",
    "        \n",
    "        comb_l = list(comb)\n",
    "        \n",
    "        #print(comb_l)\n",
    "        \n",
    "        comb_str = [str(c) for c in comb_l]\n",
    "        key = \" \".join(comb_str)\n",
    "        prev_key = \" \".join(comb_str[0:-1])\n",
    "        last_set = ll_gene_st_v_sets[comb_l[-1]]\n",
    "        cache[key] = last_set.intersection(cache[prev_key])  # due to this I have to run for samples of 2,3... may be improved\n"
   ]
  },
  {
   "cell_type": "code",
   "execution_count": null,
   "metadata": {},
   "outputs": [],
   "source": []
  },
  {
   "cell_type": "code",
   "execution_count": 89,
   "metadata": {},
   "outputs": [
    {
     "data": {
      "text/plain": [
       "22433"
      ]
     },
     "execution_count": 89,
     "metadata": {},
     "output_type": "execute_result"
    }
   ],
   "source": [
    "len(list(cache.keys()))"
   ]
  },
  {
   "cell_type": "code",
   "execution_count": 33,
   "metadata": {},
   "outputs": [],
   "source": [
    "commonGenesStudiesNumList = {i: [] for i in range(1, len(ll_gene_st_v))}\n",
    "\n",
    "\n",
    "for k, v in cache.items():\n",
    "    commonGenesStudiesNumList[len(k.split(\" \"))].append(len(v))"
   ]
  },
  {
   "cell_type": "code",
   "execution_count": 37,
   "metadata": {},
   "outputs": [
    {
     "data": {
      "text/plain": [
       "79"
      ]
     },
     "execution_count": 37,
     "metadata": {},
     "output_type": "execute_result"
    }
   ],
   "source": [
    "len(cache.items())"
   ]
  },
  {
   "cell_type": "code",
   "execution_count": null,
   "metadata": {},
   "outputs": [],
   "source": [
    "# further figures using this data are in R code"
   ]
  }
 ],
 "metadata": {
  "kernelspec": {
   "display_name": "Python 3",
   "language": "python",
   "name": "python3"
  },
  "language_info": {
   "codemirror_mode": {
    "name": "ipython",
    "version": 3
   },
   "file_extension": ".py",
   "mimetype": "text/x-python",
   "name": "python",
   "nbconvert_exporter": "python",
   "pygments_lexer": "ipython3",
   "version": "3.7.4"
  }
 },
 "nbformat": 4,
 "nbformat_minor": 4
}
