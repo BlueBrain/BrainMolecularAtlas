{
 "cells": [
  {
   "cell_type": "markdown",
   "metadata": {},
   "source": [
    "This file is part of BrainMolecularAtlas.\n",
    "\n",
    "It makes supp Figure 2A.\n",
    "\n",
    "Copyright (c) 2021-2022 Blue Brain Project/EPFL \n",
    "\n",
    "This program is free software: you can redistribute it and/or modify\n",
    "it under the terms of the GNU General Public License as published by\n",
    "the Free Software Foundation, either version 3 of the License, or\n",
    "(at your option) any later version.\n",
    "This program is distributed in the hope that it will be useful,\n",
    "but WITHOUT ANY WARRANTY; without even the implied warranty of\n",
    "MERCHANTABILITY or FITNESS FOR A PARTICULAR PURPOSE.  See the\n",
    "GNU General Public License for more details.\n",
    "\n",
    "You should have received a copy of the GNU General Public License\n",
    "along with this program.  If not, see <https://www.gnu.org/licenses/>."
   ]
  },
  {
   "cell_type": "code",
   "execution_count": 1,
   "metadata": {},
   "outputs": [],
   "source": [
    "import pandas as pd\n",
    "import numpy as np\n",
    "from matplotlib import pyplot as plt\n",
    "import seaborn as sns\n",
    "import altair as alt\n",
    "\n",
    "from numpy.random import seed\n",
    "from numpy.random import randint\n",
    "from scipy.stats import ks_2samp\n",
    "from scipy.stats import levene\n",
    "from scipy.stats import fligner\n",
    "from scipy.stats import kruskal\n",
    "import scikit_posthocs as sp\n",
    "\n",
    "import scipy.stats as ss\n",
    "from scipy.stats import mannwhitneyu\n",
    "\n",
    "import pickle as pkl\n",
    "\n",
    "pd.options.display.max_columns = None\n",
    "pd.options.display.max_rows = None\n",
    "\n",
    "\n",
    "%matplotlib inline\n",
    "%config InlineBackend.figure_format = 'retina'"
   ]
  },
  {
   "cell_type": "code",
   "execution_count": 2,
   "metadata": {},
   "outputs": [],
   "source": [
    "sns.set_style('whitegrid',{'axes.grid':False})"
   ]
  },
  {
   "cell_type": "code",
   "execution_count": 3,
   "metadata": {},
   "outputs": [
    {
     "name": "stdout",
     "output_type": "stream",
     "text": [
      "2131244\n"
     ]
    }
   ],
   "source": [
    "import pickle as pkl\n",
    "\n",
    "with open('../data/6_df_processed.pkl','rb') as f:\n",
    "    df = pkl.load(f)\n",
    "print(len(df))\n",
    "\n",
    "df[\"log_conc_uM_medNorm\"]  = df[\"log_conc_uM_medNorm\"].astype('float64')\n",
    "\n",
    "\n",
    "custom_dict = {'Itzhak 2017':0,\n",
    "               'Wisniewski 2015':1,\n",
    "              'Bai 2020':2,\n",
    "              'Hasan 2020':3,\n",
    "              'Geiger 2013':4,\n",
    "              'Kjell 2020':5,\n",
    "              'Fecher 2019':6,\n",
    "              'Guergues 2019':7,\n",
    "              'Hamezah 2019':8,\n",
    "              'McKetney 2019':9,\n",
    "              'Hamezah 2018':10,\n",
    "              'Krogager 2018':11,\n",
    "              'Zhu 2018':12,\n",
    "              'Carlyle 2017':13,\n",
    "              'Sharma 2015, isolated':14,\n",
    "              'Sharma 2015, cultured':15,\n",
    "              'Han 2014':16,\n",
    "              'Davis 2019':17,\n",
    "              'Chuang 2018':18,\n",
    "              'Fornasiero 2018':19,\n",
    "              'Hosp 2017, insoluble':20,\n",
    "              'Hosp 2017, soluble':21,\n",
    "              'Hosp 2017, CSF':22,\n",
    "              'Beltran 2016':23,\n",
    "              'Duda 2018':24}   \n",
    "\n",
    "df = df.iloc[df['Study'].map(custom_dict).argsort()]\n",
    "\n",
    "\n",
    "df = df.reset_index(drop=True)\n",
    "\n",
    "df['exp_conc'] = np.exp(df['log_conc_uM_medNorm'])\n"
   ]
  },
  {
   "cell_type": "code",
   "execution_count": 4,
   "metadata": {},
   "outputs": [
    {
     "data": {
      "text/plain": [
       "array([nan, 'AD', 'control',\n",
       "       'LPC: low pathology of plaques and tangles. AD',\n",
       "       'HPC: high Ab pathology but no detectable cognitive defects. AD',\n",
       "       'AD: late-stage AD with high pathology scores of plaques and tangles',\n",
       "       'MCI: mild cognitive impairment with Ab pathology and a slight but measurable defect in cognition. AD',\n",
       "       'PSP: progressive supranuclear palsy, another neurodegenerative disorder of tauopathy',\n",
       "       'EAE', 'Alzheimer', 'WT', 'AD_severe', 'AD_intermediate', 'SORT',\n",
       "       'adult', 'young'], dtype=object)"
      ]
     },
     "execution_count": 4,
     "metadata": {},
     "output_type": "execute_result"
    }
   ],
   "source": [
    "df['condition'].unique()"
   ]
  },
  {
   "cell_type": "code",
   "execution_count": 25,
   "metadata": {},
   "outputs": [
    {
     "data": {
      "text/plain": [
       "4724"
      ]
     },
     "execution_count": 25,
     "metadata": {},
     "output_type": "execute_result"
    }
   ],
   "source": [
    "len(df.loc[(df['Study']=='Carlyle 2017'),'gene_id_final'].unique())"
   ]
  },
  {
   "cell_type": "code",
   "execution_count": 24,
   "metadata": {},
   "outputs": [
    {
     "data": {
      "text/plain": [
       "array([38], dtype=object)"
      ]
     },
     "execution_count": 24,
     "metadata": {},
     "output_type": "execute_result"
    }
   ],
   "source": [
    "df.loc[(df['Study']=='Zhu 2018'),'Age_days'].unique()"
   ]
  },
  {
   "cell_type": "code",
   "execution_count": 7,
   "metadata": {},
   "outputs": [
    {
     "data": {
      "text/plain": [
       "9291"
      ]
     },
     "execution_count": 7,
     "metadata": {},
     "output_type": "execute_result"
    }
   ],
   "source": [
    "len(df.loc[(df['Study']=='Bai 2020') & (df['Organism']=='mouse'),'gene_id_final'].unique())"
   ]
  },
  {
   "cell_type": "code",
   "execution_count": 6,
   "metadata": {},
   "outputs": [
    {
     "data": {
      "text/plain": [
       "array(['cortex'], dtype=object)"
      ]
     },
     "execution_count": 6,
     "metadata": {},
     "output_type": "execute_result"
    }
   ],
   "source": [
    "df.loc[(df['Study']=='Bai 2020') & (df['Organism']=='human'),'location'].unique()"
   ]
  },
  {
   "cell_type": "code",
   "execution_count": 4,
   "metadata": {},
   "outputs": [
    {
     "data": {
      "text/plain": [
       "Index(['gene_names', 'Uniprot', 'Study', 'Organism', 'location', 'Age_cat',\n",
       "       'Age_days', 'condition', 'sample_id', 'molecular_weight_kDa',\n",
       "       'raw_data', 'raw_data_units', 'gene_name_unified', 'Uniprot_unified',\n",
       "       'gene_id_final', 'log_raw_data', 'uniprot_from_gn', 'Uniprot_final',\n",
       "       'TheorPepNum', 'conc_uM', 'log_conc_uM', 'copyNum', 'totalProtein',\n",
       "       'totalVolume', 'sample_full_id', 'compound_gene_protein_id', 'row_id',\n",
       "       'row_gene_id', 'gene_id_dd', 'log_conc_uM_medNorm', 'exp_conc'],\n",
       "      dtype='object')"
      ]
     },
     "execution_count": 4,
     "metadata": {},
     "output_type": "execute_result"
    }
   ],
   "source": [
    "df.columns"
   ]
  },
  {
   "cell_type": "code",
   "execution_count": 25,
   "metadata": {},
   "outputs": [],
   "source": [
    "# normalized conc to copy num\n",
    "\n",
    "def conc2cn(row):\n",
    "    \n",
    "    conc = row['exp_conc']\n",
    "    totalVolume = row['totalVolume']\n",
    "    \n",
    "    avogadro = 6.02214129e23\n",
    "    \n",
    "    copyNum = conc*(totalVolume*1e-15)*avogadro/1e6 \n",
    "    \n",
    "    return(copyNum)"
   ]
  },
  {
   "cell_type": "code",
   "execution_count": 18,
   "metadata": {},
   "outputs": [
    {
     "data": {
      "text/plain": [
       "0.995768199230121"
      ]
     },
     "execution_count": 18,
     "metadata": {},
     "output_type": "execute_result"
    }
   ],
   "source": [
    "len(df.loc[~df['totalVolume'].isna()])/len(df)"
   ]
  },
  {
   "cell_type": "code",
   "execution_count": 28,
   "metadata": {},
   "outputs": [],
   "source": [
    "df2 = df.copy()"
   ]
  },
  {
   "cell_type": "code",
   "execution_count": 29,
   "metadata": {},
   "outputs": [],
   "source": [
    "df2 = df2.loc[~df['totalVolume'].isna()]"
   ]
  },
  {
   "cell_type": "code",
   "execution_count": 30,
   "metadata": {},
   "outputs": [],
   "source": [
    "df2 = df2.drop(columns='copyNum') # drop old cn which are prior normaliz"
   ]
  },
  {
   "cell_type": "code",
   "execution_count": 31,
   "metadata": {},
   "outputs": [],
   "source": [
    "df2['copyNum'] = df2.apply(conc2cn, axis=1)\n",
    "    "
   ]
  },
  {
   "cell_type": "code",
   "execution_count": 36,
   "metadata": {},
   "outputs": [],
   "source": [
    "df2['log_copyNum'] = np.log(df2['copyNum'])"
   ]
  },
  {
   "cell_type": "code",
   "execution_count": 43,
   "metadata": {},
   "outputs": [],
   "source": [
    "df2 = df2.drop(columns=['gene_names', 'Uniprot', 'Study', 'Organism', 'location', 'Age_cat',\n",
    "       'Age_days', 'condition', 'sample_id', 'molecular_weight_kDa',\n",
    "       'raw_data', 'raw_data_units', 'gene_name_unified', 'Uniprot_unified',\n",
    "        'log_raw_data', 'uniprot_from_gn', 'Uniprot_final',\n",
    "       'TheorPepNum', 'conc_uM', 'log_conc_uM', 'totalProtein', 'totalVolume',\n",
    "       'compound_gene_protein_id', 'row_id', 'row_gene_id',\n",
    "       'gene_id_dd', 'log_conc_uM_medNorm', 'exp_conc','log_copyNum'])"
   ]
  },
  {
   "cell_type": "code",
   "execution_count": 44,
   "metadata": {},
   "outputs": [
    {
     "data": {
      "text/html": [
       "<div>\n",
       "<style scoped>\n",
       "    .dataframe tbody tr th:only-of-type {\n",
       "        vertical-align: middle;\n",
       "    }\n",
       "\n",
       "    .dataframe tbody tr th {\n",
       "        vertical-align: top;\n",
       "    }\n",
       "\n",
       "    .dataframe thead th {\n",
       "        text-align: right;\n",
       "    }\n",
       "</style>\n",
       "<table border=\"1\" class=\"dataframe\">\n",
       "  <thead>\n",
       "    <tr style=\"text-align: right;\">\n",
       "      <th></th>\n",
       "      <th>gene_id_final</th>\n",
       "      <th>sample_full_id</th>\n",
       "      <th>copyNum</th>\n",
       "    </tr>\n",
       "  </thead>\n",
       "  <tbody>\n",
       "    <tr>\n",
       "      <th>9019</th>\n",
       "      <td>CREBBP</td>\n",
       "      <td>Wisniewski 2015_mouse_brain_91_nan_3</td>\n",
       "      <td>286.646185</td>\n",
       "    </tr>\n",
       "    <tr>\n",
       "      <th>9020</th>\n",
       "      <td>MAPK8IP1</td>\n",
       "      <td>Wisniewski 2015_mouse_brain_91_nan_3</td>\n",
       "      <td>3822.957634</td>\n",
       "    </tr>\n",
       "    <tr>\n",
       "      <th>9021</th>\n",
       "      <td>GNAS</td>\n",
       "      <td>Wisniewski 2015_mouse_brain_91_nan_1</td>\n",
       "      <td>259392.477103</td>\n",
       "    </tr>\n",
       "    <tr>\n",
       "      <th>9022</th>\n",
       "      <td>MVK</td>\n",
       "      <td>Wisniewski 2015_mouse_brain_91_nan_2</td>\n",
       "      <td>13722.051100</td>\n",
       "    </tr>\n",
       "    <tr>\n",
       "      <th>9023</th>\n",
       "      <td>METAP1</td>\n",
       "      <td>Wisniewski 2015_mouse_brain_91_nan_2</td>\n",
       "      <td>37537.633361</td>\n",
       "    </tr>\n",
       "  </tbody>\n",
       "</table>\n",
       "</div>"
      ],
      "text/plain": [
       "     gene_id_final                        sample_full_id        copyNum\n",
       "9019        CREBBP  Wisniewski 2015_mouse_brain_91_nan_3     286.646185\n",
       "9020      MAPK8IP1  Wisniewski 2015_mouse_brain_91_nan_3    3822.957634\n",
       "9021          GNAS  Wisniewski 2015_mouse_brain_91_nan_1  259392.477103\n",
       "9022           MVK  Wisniewski 2015_mouse_brain_91_nan_2   13722.051100\n",
       "9023        METAP1  Wisniewski 2015_mouse_brain_91_nan_2   37537.633361"
      ]
     },
     "execution_count": 44,
     "metadata": {},
     "output_type": "execute_result"
    }
   ],
   "source": [
    "df2.head()"
   ]
  },
  {
   "cell_type": "code",
   "execution_count": 45,
   "metadata": {},
   "outputs": [],
   "source": [
    "df2g = df2.groupby('sample_full_id').sum()"
   ]
  },
  {
   "cell_type": "code",
   "execution_count": 47,
   "metadata": {},
   "outputs": [],
   "source": [
    "df2g = df2g.reset_index()"
   ]
  },
  {
   "cell_type": "code",
   "execution_count": 48,
   "metadata": {},
   "outputs": [
    {
     "data": {
      "text/html": [
       "<div>\n",
       "<style scoped>\n",
       "    .dataframe tbody tr th:only-of-type {\n",
       "        vertical-align: middle;\n",
       "    }\n",
       "\n",
       "    .dataframe tbody tr th {\n",
       "        vertical-align: top;\n",
       "    }\n",
       "\n",
       "    .dataframe thead th {\n",
       "        text-align: right;\n",
       "    }\n",
       "</style>\n",
       "<table border=\"1\" class=\"dataframe\">\n",
       "  <thead>\n",
       "    <tr style=\"text-align: right;\">\n",
       "      <th></th>\n",
       "      <th>sample_full_id</th>\n",
       "      <th>copyNum</th>\n",
       "    </tr>\n",
       "  </thead>\n",
       "  <tbody>\n",
       "    <tr>\n",
       "      <th>0</th>\n",
       "      <td>Bai 2020_human_cortex_post-mortem_AD: late-sta...</td>\n",
       "      <td>7.398523e+09</td>\n",
       "    </tr>\n",
       "    <tr>\n",
       "      <th>1</th>\n",
       "      <td>Bai 2020_human_cortex_post-mortem_AD: late-sta...</td>\n",
       "      <td>7.360178e+09</td>\n",
       "    </tr>\n",
       "    <tr>\n",
       "      <th>2</th>\n",
       "      <td>Bai 2020_human_cortex_post-mortem_HPC: high Ab...</td>\n",
       "      <td>7.328363e+09</td>\n",
       "    </tr>\n",
       "    <tr>\n",
       "      <th>3</th>\n",
       "      <td>Bai 2020_human_cortex_post-mortem_HPC: high Ab...</td>\n",
       "      <td>7.370514e+09</td>\n",
       "    </tr>\n",
       "    <tr>\n",
       "      <th>4</th>\n",
       "      <td>Bai 2020_human_cortex_post-mortem_LPC: low pat...</td>\n",
       "      <td>7.357806e+09</td>\n",
       "    </tr>\n",
       "  </tbody>\n",
       "</table>\n",
       "</div>"
      ],
      "text/plain": [
       "                                      sample_full_id       copyNum\n",
       "0  Bai 2020_human_cortex_post-mortem_AD: late-sta...  7.398523e+09\n",
       "1  Bai 2020_human_cortex_post-mortem_AD: late-sta...  7.360178e+09\n",
       "2  Bai 2020_human_cortex_post-mortem_HPC: high Ab...  7.328363e+09\n",
       "3  Bai 2020_human_cortex_post-mortem_HPC: high Ab...  7.370514e+09\n",
       "4  Bai 2020_human_cortex_post-mortem_LPC: low pat...  7.357806e+09"
      ]
     },
     "execution_count": 48,
     "metadata": {},
     "output_type": "execute_result"
    }
   ],
   "source": [
    "df2g.head()"
   ]
  },
  {
   "cell_type": "code",
   "execution_count": 49,
   "metadata": {},
   "outputs": [],
   "source": [
    "df2g['log_copyNum'] = np.log(df2g['copyNum'])"
   ]
  },
  {
   "cell_type": "code",
   "execution_count": null,
   "metadata": {},
   "outputs": [],
   "source": []
  },
  {
   "cell_type": "code",
   "execution_count": 57,
   "metadata": {},
   "outputs": [
    {
     "data": {
      "image/png": "[encoded data removed]",
      "text/plain": [
       "<Figure size 576x432 with 1 Axes>"
      ]
     },
     "metadata": {
      "image/png": {
       "height": 357,
       "width": 480
      }
     },
     "output_type": "display_data"
    }
   ],
   "source": [
    "fig = plt.figure(figsize=(8, 6))\n",
    "\n",
    "ax = plt.hist(df2g['log_copyNum'],100, color='green')\n",
    "\n",
    "plt.axvline(x=np.log(3*1e9),c='orange')\n",
    "#plt.axvline(x=np.log(1.0),c='purple')\n",
    "\n",
    "plt.grid(False)\n",
    "\n",
    "plt.show()\n",
    "\n",
    "#fig.savefig('../plots/suppValid_totalProteinPerSample.png',dpi=300, bbox_inches='tight', transparent=True)\n",
    "#fig.savefig('../plots/suppValid_totalProteinPerSample.svg', transparent=True)\n"
   ]
  },
  {
   "cell_type": "code",
   "execution_count": 13,
   "metadata": {},
   "outputs": [
    {
     "data": {
      "text/plain": [
       "9590670714360978.0"
      ]
     },
     "execution_count": 13,
     "metadata": {},
     "output_type": "execute_result"
    }
   ],
   "source": [
    "np.max(df.loc[~df['copyNum'].isna(),'copyNum'])"
   ]
  },
  {
   "cell_type": "code",
   "execution_count": 14,
   "metadata": {},
   "outputs": [
    {
     "data": {
      "text/plain": [
       "array(['FABP7'], dtype=object)"
      ]
     },
     "execution_count": 14,
     "metadata": {},
     "output_type": "execute_result"
    }
   ],
   "source": [
    "df.loc[(~df['totalProtein'].isna()) & (df['copyNum']==9590670714360978.0),'gene_id_final'].unique()"
   ]
  },
  {
   "cell_type": "code",
   "execution_count": 15,
   "metadata": {},
   "outputs": [
    {
     "data": {
      "text/html": [
       "<div>\n",
       "<style scoped>\n",
       "    .dataframe tbody tr th:only-of-type {\n",
       "        vertical-align: middle;\n",
       "    }\n",
       "\n",
       "    .dataframe tbody tr th {\n",
       "        vertical-align: top;\n",
       "    }\n",
       "\n",
       "    .dataframe thead th {\n",
       "        text-align: right;\n",
       "    }\n",
       "</style>\n",
       "<table border=\"1\" class=\"dataframe\">\n",
       "  <thead>\n",
       "    <tr style=\"text-align: right;\">\n",
       "      <th></th>\n",
       "      <th>gene_names</th>\n",
       "      <th>Uniprot</th>\n",
       "      <th>Study</th>\n",
       "      <th>Organism</th>\n",
       "      <th>location</th>\n",
       "      <th>Age_cat</th>\n",
       "      <th>Age_days</th>\n",
       "      <th>condition</th>\n",
       "      <th>sample_id</th>\n",
       "      <th>molecular_weight_kDa</th>\n",
       "      <th>raw_data</th>\n",
       "      <th>raw_data_units</th>\n",
       "      <th>gene_name_unified</th>\n",
       "      <th>Uniprot_unified</th>\n",
       "      <th>gene_id_final</th>\n",
       "      <th>log_raw_data</th>\n",
       "      <th>uniprot_from_gn</th>\n",
       "      <th>Uniprot_final</th>\n",
       "      <th>TheorPepNum</th>\n",
       "      <th>conc_uM</th>\n",
       "      <th>log_conc_uM</th>\n",
       "      <th>copyNum</th>\n",
       "      <th>totalProtein</th>\n",
       "      <th>totalVolume</th>\n",
       "      <th>sample_full_id</th>\n",
       "      <th>compound_gene_protein_id</th>\n",
       "      <th>row_id</th>\n",
       "      <th>row_gene_id</th>\n",
       "      <th>gene_id_dd</th>\n",
       "      <th>log_conc_uM_medNorm</th>\n",
       "      <th>exp_conc</th>\n",
       "    </tr>\n",
       "  </thead>\n",
       "  <tbody>\n",
       "    <tr>\n",
       "      <th>2130921</th>\n",
       "      <td>FABP7</td>\n",
       "      <td>NaN</td>\n",
       "      <td>Duda 2018</td>\n",
       "      <td>mouse</td>\n",
       "      <td>cerebellum</td>\n",
       "      <td>young</td>\n",
       "      <td>51</td>\n",
       "      <td>young</td>\n",
       "      <td>NaN</td>\n",
       "      <td>14.893</td>\n",
       "      <td>79.62841</td>\n",
       "      <td>Mean concentration [mol/(g total protein)]</td>\n",
       "      <td>FABP7</td>\n",
       "      <td>None</td>\n",
       "      <td>FABP7</td>\n",
       "      <td>4.377371</td>\n",
       "      <td>[P51880, P55051, O15540]</td>\n",
       "      <td>P51880</td>\n",
       "      <td>None</td>\n",
       "      <td>1048.48</td>\n",
       "      <td>6.955096</td>\n",
       "      <td>9.59067e+15</td>\n",
       "      <td>3.03786e+09</td>\n",
       "      <td>1.51893e+10</td>\n",
       "      <td>Duda 2018_mouse_cerebellum_51.0_young_nan</td>\n",
       "      <td>FABP7#P51880</td>\n",
       "      <td>FABP7#P51880@Duda 2018_mouse_cerebellum_51.0_y...</td>\n",
       "      <td>FABP7@Duda 2018_mouse_cerebellum_51.0_young_nan</td>\n",
       "      <td>None</td>\n",
       "      <td>3.2418</td>\n",
       "      <td>25.579728</td>\n",
       "    </tr>\n",
       "  </tbody>\n",
       "</table>\n",
       "</div>"
      ],
      "text/plain": [
       "        gene_names Uniprot      Study Organism    location Age_cat Age_days  \\\n",
       "2130921      FABP7     NaN  Duda 2018    mouse  cerebellum   young       51   \n",
       "\n",
       "        condition sample_id molecular_weight_kDa  raw_data  \\\n",
       "2130921     young       NaN               14.893  79.62841   \n",
       "\n",
       "                                     raw_data_units gene_name_unified  \\\n",
       "2130921  Mean concentration [mol/(g total protein)]             FABP7   \n",
       "\n",
       "        Uniprot_unified gene_id_final  log_raw_data           uniprot_from_gn  \\\n",
       "2130921            None         FABP7      4.377371  [P51880, P55051, O15540]   \n",
       "\n",
       "        Uniprot_final TheorPepNum  conc_uM  log_conc_uM      copyNum  \\\n",
       "2130921        P51880        None  1048.48     6.955096  9.59067e+15   \n",
       "\n",
       "        totalProtein  totalVolume                             sample_full_id  \\\n",
       "2130921  3.03786e+09  1.51893e+10  Duda 2018_mouse_cerebellum_51.0_young_nan   \n",
       "\n",
       "        compound_gene_protein_id  \\\n",
       "2130921             FABP7#P51880   \n",
       "\n",
       "                                                    row_id  \\\n",
       "2130921  FABP7#P51880@Duda 2018_mouse_cerebellum_51.0_y...   \n",
       "\n",
       "                                             row_gene_id gene_id_dd  \\\n",
       "2130921  FABP7@Duda 2018_mouse_cerebellum_51.0_young_nan       None   \n",
       "\n",
       "         log_conc_uM_medNorm   exp_conc  \n",
       "2130921               3.2418  25.579728  "
      ]
     },
     "execution_count": 15,
     "metadata": {},
     "output_type": "execute_result"
    }
   ],
   "source": [
    "df.loc[(~df['totalProtein'].isna()) & (df['copyNum']==9590670714360978.0)].head()"
   ]
  },
  {
   "cell_type": "code",
   "execution_count": null,
   "metadata": {},
   "outputs": [],
   "source": []
  }
 ],
 "metadata": {
  "kernelspec": {
   "display_name": "Python 3",
   "language": "python",
   "name": "python3"
  },
  "language_info": {
   "codemirror_mode": {
    "name": "ipython",
    "version": 3
   },
   "file_extension": ".py",
   "mimetype": "text/x-python",
   "name": "python",
   "nbconvert_exporter": "python",
   "pygments_lexer": "ipython3",
   "version": "3.7.4"
  }
 },
 "nbformat": 4,
 "nbformat_minor": 4
}
